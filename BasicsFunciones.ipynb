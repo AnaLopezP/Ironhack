{
 "cells": [
  {
   "cell_type": "markdown",
   "id": "aef01e5a",
   "metadata": {
    "id": "aef01e5a"
   },
   "source": [
    "# Lambdas, udef, filter, map"
   ]
  },
  {
   "cell_type": "markdown",
   "id": "3131bdb8",
   "metadata": {
    "id": "3131bdb8"
   },
   "source": [
    "The goverment made a socilogical study of citizens at mid-40's. They gathered the following data:"
   ]
  },
  {
   "cell_type": "code",
   "execution_count": 47,
   "id": "70d86ca7",
   "metadata": {
    "id": "70d86ca7"
   },
   "outputs": [],
   "source": [
    "citizens = [{ 'First Name': 'Preston' , 'Last Name': 'Cunningham', 'Age': 49 , 'Education': 'Doctoral', 'Occupation':' Teacher' ,'Experience (Years)': 6, 'Salary': 62499}, \n",
    " { 'First Name': 'Madaline', 'Last Name': 'Farrell', 'Age': 41, 'Education': 'Bachelor', 'Occupation': 'Insurer','Experience (Years)': 16, 'Salary': 50190},\n",
    " { 'First Name': 'Eleanor', 'Last Name': 'Carter', 'Age': 49, 'Education': 'Lower secondary', 'Occupation': 'Programmer','Experience (Years)': 18, 'Salary': 189716},\n",
    " { 'First Name': 'Adison', 'Last Name': 'Hall', 'Age': 42 , 'Education': 'Bachelor', 'Occupation': 'Florist','Experience (Years)': 21, 'Salary': 34517},\n",
    " { 'First Name': 'Grace', 'Last Name': 'Cooper', 'Age': 49, 'Education': 'Master', 'Occupation': 'Singer','Experience (Years)': 9, 'Salary': 51994},\n",
    " { 'First Name': 'Alford', 'Last Name': 'Kelley', 'Age': 49, 'Education': 'Bachelor', 'Occupation': 'Aeroplane Pilot','Experience (Years)': 9, 'Salary': 170466},\n",
    " { 'First Name': 'Vincent', 'Last Name': 'Anderson', 'Age': 47, 'Education': 'Master', 'Occupation': 'Botanist','Experience (Years)': 6, 'Salary': 71617},\n",
    " { 'First Name': 'Myra', 'Last Name': 'Wright', 'Age': 45, 'Education': 'Master', 'Occupation': 'Geologist' ,'Experience (Years)': 18, 'Salary': 48786},\n",
    " { 'First Name': 'Chester', 'Last Name':'Bennett', 'Age': 42, 'Education': 'Doctoral', 'Occupation': 'Astronomer','Experience (Years)': 13, 'Salary': 44826},\n",
    " { 'First Name': 'Blake', 'Last Name': 'Tucker', 'Age': 42, 'Education': 'Doctoral', 'Occupation': 'Firefighter','Experience (Years)': 21, 'Salary': 36761},\n",
    " { 'First Name': 'Paige', 'Last Name': 'Ryan', 'Age': 43, 'Education': 'Primary', 'Occupation': 'Fine Artist','Experience (Years)': 19, 'Salary': 28181},\n",
    " { 'First Name': 'Natalie', 'Last Name': 'Ellis', 'Age': 45, 'Education': 'Bachelor', 'Occupation': 'Baker','Experience (Years)': 0, 'Salary': 31194},\n",
    " { 'First Name': 'Martin', 'Last Name': 'Thompson', 'Age': 47, 'Education': 'Bachelor', 'Occupation': 'Journalist','Experience (Years)': 21, 'Salary': 90183},\n",
    " { 'First Name': 'Alan', 'Last Name': 'Sullivan', 'Age': 46, 'Education': 'Doctoral', 'Occupation': 'Singer','Experience (Years)': 2, 'Salary': 18440},\n",
    " { 'First Name': 'Inga', 'Last Name': 'Bergman', 'Age': 41, 'Education': 'Bachelor', 'Occupation': 'Producer','Experience (Years)': 22, 'Salary': 80029},\n",
    " { 'First Name': 'Freddy', 'Last Name': 'Brown', 'Age': 48, 'Education': 'Bachelor', 'Occupation': 'Economist','Experience (Years)': 18, 'Salary': 146217},\n",
    " { 'First Name': 'Adelaide', 'Last Name': 'Farrell', 'Age': 42, 'Education': 'Bachelor', 'Occupation': 'Mechanic','Experience (Years)': 9, 'Salary':19414},\n",
    " { 'First Name': 'Luke', 'Last Name': 'Cooper', 'Age': 40, 'Education': 'Upper secondary', 'Occupation': 'Producer','Experience (Years)': 17, 'Salary': 160541},\n",
    " { 'First Name': 'Sofia', 'Last Name': 'Hall', 'Age': 41, 'Education': 'Doctoral', 'Occupation': 'Baker','Experience (Years)': 1, 'Salary': 25904},\n",
    " { 'First Name': 'Ashton', 'Last Name': 'Kelly', 'Age': 49, 'Education': 'Master', 'Occupation': 'Chef','Experience (Years)': 6, 'Salary': 95533}\n",
    "]"
   ]
  },
  {
   "cell_type": "markdown",
   "id": "d9724b4c",
   "metadata": {
    "id": "d9724b4c"
   },
   "source": [
    "The goverment wants to know some things about this sample of citizens."
   ]
  },
  {
   "cell_type": "markdown",
   "id": "de46f18a",
   "metadata": {
    "id": "de46f18a"
   },
   "source": [
    "## Exercise 1:\n",
    "\n",
    "1. Create a user defined function to compute the mean of a list of numbers.\n",
    "2. Use python code to store the ages of the citizens inside a list.\n",
    "3. Use your function to compute the mean age (round the mean age to one decimal) using `round()`\n",
    "\n",
    "Expected result:\n",
    "\n",
    "```python\n",
    "\"The mean age of the citizens is: average_age years\"\n",
    "```\n",
    "\n",
    "replacing `average_age` by the correspoding value."
   ]
  },
  {
   "cell_type": "code",
   "execution_count": 49,
   "id": "rifC4HDaTHfA",
   "metadata": {
    "colab": {
     "base_uri": "https://localhost:8080/",
     "height": 53
    },
    "id": "rifC4HDaTHfA",
    "outputId": "6d4dc365-6892-4793-be78-54b59c3961cf",
    "scrolled": true
   },
   "outputs": [
    {
     "name": "stdout",
     "output_type": "stream",
     "text": [
      "[49, 41, 49, 42, 49, 49, 47, 45, 42, 42, 43, 45, 47, 46, 41, 48, 42, 40, 41, 49]\n",
      "La media de la edad es: 45\n"
     ]
    }
   ],
   "source": [
    "def mean_list(list):\n",
    "  '''This function recieves a list as a parameter and it makes de mean of it's content The elements of the list must be numbers.'''\n",
    "  suma = sum(list)\n",
    "  n = len(list)\n",
    "  mean = suma/n\n",
    "  mean = round(mean)\n",
    "  return \"La media de la edad es: \" + str(mean)\n",
    "\n",
    "edad = []\n",
    "def sacar_valores(valor, lista):\n",
    "  for i in citizens:\n",
    "      lista.append(i[valor])\n",
    "  return lista\n",
    "\n",
    "print(sacar_valores('Age', edad))\n",
    "print(mean_list(edad))\n"
   ]
  },
  {
   "cell_type": "markdown",
   "id": "67b16e40",
   "metadata": {
    "id": "67b16e40"
   },
   "source": [
    "# Exercise 2:\n",
    "\n",
    "1. What are the unique educational levels?  \n",
    "2. How many unique educational levels are?\n",
    "3. What are the unique ocupations?\n",
    "4. How many unique ocupations are?"
   ]
  },
  {
   "cell_type": "code",
   "execution_count": 50,
   "id": "RMMBf4iLXJEK",
   "metadata": {
    "colab": {
     "base_uri": "https://localhost:8080/"
    },
    "id": "RMMBf4iLXJEK",
    "outputId": "c5ccf6d0-37b5-4dbe-fc21-a105c4bb4156"
   },
   "outputs": [
    {
     "name": "stdout",
     "output_type": "stream",
     "text": [
      "Las educaciones que no se repiten son: \n",
      "['Lower secondary', 'Primary', 'Upper secondary']\n",
      "Los trabajos que no se repiten son: \n",
      "[' Teacher', 'Insurer', 'Programmer', 'Florist', 'Aeroplane Pilot', 'Botanist', 'Geologist', 'Astronomer', 'Firefighter', 'Fine Artist', 'Journalist', 'Economist', 'Mechanic', 'Chef']\n"
     ]
    }
   ],
   "source": [
    "educacion = []\n",
    "unicos_educacion = []\n",
    "trabajo = []\n",
    "unicos_trabajo = []\n",
    "sacar_valores('Education', educacion)\n",
    "sacar_valores('Occupation', trabajo)\n",
    "def unicos(lista1, lista2):\n",
    "    for i in range(len(lista1)):\n",
    "        x = lista1.count(lista1[i])\n",
    "        if x == 1:\n",
    "            lista2.append(lista1[i])\n",
    "    return lista2\n",
    "print(\"Las educaciones que no se repiten son: \")\n",
    "print(unicos(educacion, unicos_educacion))\n",
    "print(\"Los trabajos que no se repiten son: \")\n",
    "print(unicos(trabajo, unicos_trabajo))\n"
   ]
  },
  {
   "cell_type": "markdown",
   "id": "42d09af6",
   "metadata": {
    "id": "42d09af6"
   },
   "source": [
    "# Exercise 3:\n",
    "\n",
    "1. Provide a new list in which avery element is another dictionary which only contains:\n",
    "\n",
    "* 'First Name'\n",
    "* 'Last Name'\n",
    "* and at which age they started working?\n",
    "   ( substract from the age the years of experience )\n",
    "\n",
    "Expected output:\n",
    "\n",
    "```python\n",
    "[{ 'First Name': name, 'Last Name': last_name,'Starting age': 27},\n",
    " ...\n",
    "]\n",
    "```"
   ]
  },
  {
   "cell_type": "code",
   "execution_count": 65,
   "id": "0a6a40fb",
   "metadata": {
    "scrolled": true
   },
   "outputs": [
    {
     "name": "stdout",
     "output_type": "stream",
     "text": [
      "[6, 16, 18, 21, 9, 9, 6, 18, 13, 21, 19, 0, 21, 2, 22, 18, 9, 17, 1, 6]\n",
      "NOMBRES\n",
      "['Preston', 'Madaline', 'Eleanor', 'Adison', 'Grace', 'Alford', 'Vincent', 'Myra', 'Chester', 'Blake', 'Paige', 'Natalie', 'Martin', 'Alan', 'Inga', 'Freddy', 'Adelaide', 'Luke', 'Sofia', 'Ashton']\n",
      "APELLIDOS\n",
      "['Cunningham', 'Farrell', 'Carter', 'Hall', 'Cooper', 'Kelley', 'Anderson', 'Wright', 'Bennett', 'Tucker', 'Ryan', 'Ellis', 'Thompson', 'Sullivan', 'Bergman', 'Brown', 'Farrell', 'Cooper', 'Hall', 'Kelly']\n",
      "EDAD EN LA QUE COMIENZÓ A TRABAJAR\n",
      "[43, 25, 31, 21, 40, 40, 41, 27, 29, 21, 24, 45, 26, 44, 19, 30, 33, 23, 40, 43]\n",
      "DICCIONARIO\n"
     ]
    },
    {
     "data": {
      "text/plain": [
       "[{'First Name': 'Preston', 'Last Name': 'Cunningham', 'Starting Age': 43},\n",
       " {'First Name': 'Madaline', 'Last Name': 'Farrell', 'Starting Age': 25},\n",
       " {'First Name': 'Eleanor', 'Last Name': 'Carter', 'Starting Age': 31},\n",
       " {'First Name': 'Adison', 'Last Name': 'Hall', 'Starting Age': 21},\n",
       " {'First Name': 'Grace', 'Last Name': 'Cooper', 'Starting Age': 40},\n",
       " {'First Name': 'Alford', 'Last Name': 'Kelley', 'Starting Age': 40},\n",
       " {'First Name': 'Vincent', 'Last Name': 'Anderson', 'Starting Age': 41},\n",
       " {'First Name': 'Myra', 'Last Name': 'Wright', 'Starting Age': 27},\n",
       " {'First Name': 'Chester', 'Last Name': 'Bennett', 'Starting Age': 29},\n",
       " {'First Name': 'Blake', 'Last Name': 'Tucker', 'Starting Age': 21},\n",
       " {'First Name': 'Paige', 'Last Name': 'Ryan', 'Starting Age': 24},\n",
       " {'First Name': 'Natalie', 'Last Name': 'Ellis', 'Starting Age': 45},\n",
       " {'First Name': 'Martin', 'Last Name': 'Thompson', 'Starting Age': 26},\n",
       " {'First Name': 'Alan', 'Last Name': 'Sullivan', 'Starting Age': 44},\n",
       " {'First Name': 'Inga', 'Last Name': 'Bergman', 'Starting Age': 19},\n",
       " {'First Name': 'Freddy', 'Last Name': 'Brown', 'Starting Age': 30},\n",
       " {'First Name': 'Adelaide', 'Last Name': 'Farrell', 'Starting Age': 33},\n",
       " {'First Name': 'Luke', 'Last Name': 'Cooper', 'Starting Age': 23},\n",
       " {'First Name': 'Sofia', 'Last Name': 'Hall', 'Starting Age': 40},\n",
       " {'First Name': 'Ashton', 'Last Name': 'Kelly', 'Starting Age': 43}]"
      ]
     },
     "execution_count": 65,
     "metadata": {},
     "output_type": "execute_result"
    }
   ],
   "source": [
    "lista_nombres = []\n",
    "lista_apellidos = []\n",
    "sacar_valores('First Name', lista_nombres)\n",
    "sacar_valores('Last Name', lista_apellidos)\n",
    "años_experiencia = []\n",
    "\n",
    "comienzo = []\n",
    "sacar_valores('Experience (Years)', años_experiencia)\n",
    "for i in range(len(años_experiencia)):\n",
    "    años_comienzo = int(int(edad[i]) - int(años_experiencia[i]))\n",
    "    comienzo.append(años_comienzo)\n",
    "\n",
    "print(años_experiencia)\n",
    "print(\"NOMBRES\")\n",
    "print(lista_nombres)\n",
    "print(\"APELLIDOS\")\n",
    "print(lista_apellidos)\n",
    "print(\"EDAD EN LA QUE COMIENZÓ A TRABAJAR\")\n",
    "print(comienzo)\n",
    "\n",
    "def añadir(lista, diccionario):\n",
    "    for i in range(20):\n",
    "        diccionario['First Name'] = lista_nombres[i]\n",
    "        diccionario['Last Name'] = lista_apellidos[i]\n",
    "        diccionario['Starting Age'] = comienzo[i]\n",
    "        lista.append(diccionario)\n",
    "        diccionario = {}\n",
    "    return lista\n",
    "\n",
    "\n",
    "total = []\n",
    "diccio = {}\n",
    "total = añadir(total, diccio)    \n",
    "print(\"DICCIONARIO\")\n",
    "total"
   ]
  },
  {
   "cell_type": "markdown",
   "id": "a1369045",
   "metadata": {
    "id": "a1369045"
   },
   "source": [
    "# Exercise 4:\n",
    "\n",
    "1. Can you provide a dictionary which contains **unique** `Education` levels and the corresponding mean salary?\n",
    "2. Do the same but by `Occupation`\n",
    "\n",
    "Expected outputs:\n",
    "\n",
    "```python\n",
    "{'Doctoral': mean_salary_doctorals,\n",
    " 'Bachelor': mean_salaty_bachelors,\n",
    "...}\n",
    "```\n",
    "\n",
    "```python\n",
    "{'Teacher': mean_salary_teachers,\n",
    " 'Insurer': mean_salaty_insurers,\n",
    "...}\n",
    "````\n",
    "\n",
    "**CAVEAT!!** The statement says: UNIQUE!!!"
   ]
  },
  {
   "cell_type": "code",
   "execution_count": 66,
   "id": "29424aef",
   "metadata": {},
   "outputs": [
    {
     "name": "stdout",
     "output_type": "stream",
     "text": [
      "{'Doctoral': 37686.0, 'Bachelor': 77776.25, 'Lower secondary': 189716.0, 'Master': 66982.5, 'Primary': 28181.0, 'Upper secondary': 160541.0}\n",
      "{' Teacher': 62499.0, 'Insurer': 50190.0, 'Programmer': 189716.0, 'Florist': 34517.0, 'Singer': 35217.0, 'Aeroplane Pilot': 170466.0, 'Botanist': 71617.0, 'Geologist': 48786.0, 'Astronomer': 44826.0, 'Firefighter': 36761.0, 'Fine Artist': 28181.0, 'Baker': 28549.0, 'Journalist': 90183.0, 'Producer': 120285.0, 'Economist': 146217.0, 'Mechanic': 19414.0, 'Chef': 95533.0}\n"
     ]
    }
   ],
   "source": [
    " \n",
    "\n",
    "def listas_salarios(n):\n",
    "    salarios = {}\n",
    "    for i in citizens:\n",
    "      if i[n] not in salarios.keys():\n",
    "        salarios[i[n]] = [i['Salary']]\n",
    "      else:\n",
    "        salarios[i[n]].append(i['Salary'])\n",
    "    for key in salarios.keys():\n",
    "      salarios[key] = sum(salarios[key])/len(salarios[key])\n",
    "    return salarios\n",
    "\n",
    "x = listas_salarios('Education')\n",
    "print(x)\n",
    "y = listas_salarios('Occupation')\n",
    "print(y)\n",
    "\n"
   ]
  },
  {
   "cell_type": "markdown",
   "id": "751b6315",
   "metadata": {
    "id": "751b6315"
   },
   "source": [
    "# Exercise 5:\n",
    "\n",
    "1. Use a `lambda` function and `filter` to keep only citizens with 'Doctoral' educational level.\n",
    "2. Use a user defined function to obtain the same output"
   ]
  },
  {
   "cell_type": "markdown",
   "id": "71432147",
   "metadata": {
    "id": "71432147"
   },
   "source": [
    "The output in both cases should be:\n",
    "\n",
    "```python\n",
    "[{'First Name': 'Preston',\n",
    "  'Last Name': 'Cunningham',\n",
    "  'Age': 49,\n",
    "  'Education': 'Doctoral',\n",
    "  'Occupation': ' Teacher',\n",
    "  'Experience (Years)': 6,\n",
    "  'Salary': 62499},\n",
    " {'First Name': 'Chester',\n",
    "  'Last Name': 'Bennett',\n",
    "  'Age': 42,\n",
    "  'Education': 'Doctoral',\n",
    "  'Occupation': 'Astronomer',\n",
    "  'Experience (Years)': 13,\n",
    "  'Salary': 44826},\n",
    " {'First Name': 'Blake',\n",
    "  'Last Name': 'Tucker',\n",
    "  'Age': 42,\n",
    "  'Education': 'Doctoral',\n",
    "  'Occupation': 'Firefighter',\n",
    "  'Experience (Years)': 21,\n",
    "  'Salary': 36761},\n",
    " {'First Name': 'Alan',\n",
    "  'Last Name': 'Sullivan',\n",
    "  'Age': 46,\n",
    "  'Education': 'Doctoral',\n",
    "  'Occupation': 'Singer',\n",
    "  'Experience (Years)': 2,\n",
    "  'Salary': 18440},\n",
    " {'First Name': 'Sofia',\n",
    "  'Last Name': 'Hall',\n",
    "  'Age': 41,\n",
    "  'Education': 'Doctoral',\n",
    "  'Occupation': 'Baker',\n",
    "  'Experience (Years)': 1,\n",
    "  'Salary': 25904}]\n",
    "```"
   ]
  },
  {
   "cell_type": "code",
   "execution_count": 67,
   "id": "f0f635d1",
   "metadata": {},
   "outputs": [
    {
     "name": "stdout",
     "output_type": "stream",
     "text": [
      "[{'First Name': 'Preston', 'Last Name': 'Cunningham', 'Age': 49, 'Education': 'Doctoral', 'Occupation': ' Teacher', 'Experience (Years)': 6, 'Salary': 62499}, {'First Name': 'Chester', 'Last Name': 'Bennett', 'Age': 42, 'Education': 'Doctoral', 'Occupation': 'Astronomer', 'Experience (Years)': 13, 'Salary': 44826}, {'First Name': 'Blake', 'Last Name': 'Tucker', 'Age': 42, 'Education': 'Doctoral', 'Occupation': 'Firefighter', 'Experience (Years)': 21, 'Salary': 36761}, {'First Name': 'Alan', 'Last Name': 'Sullivan', 'Age': 46, 'Education': 'Doctoral', 'Occupation': 'Singer', 'Experience (Years)': 2, 'Salary': 18440}, {'First Name': 'Sofia', 'Last Name': 'Hall', 'Age': 41, 'Education': 'Doctoral', 'Occupation': 'Baker', 'Experience (Years)': 1, 'Salary': 25904}]\n"
     ]
    },
    {
     "data": {
      "text/plain": [
       "[{'First Name': 'Preston',\n",
       "  'Last Name': 'Cunningham',\n",
       "  'Age': 49,\n",
       "  'Education': 'Doctoral',\n",
       "  'Occupation': ' Teacher',\n",
       "  'Experience (Years)': 6,\n",
       "  'Salary': 62499},\n",
       " {'First Name': 'Chester',\n",
       "  'Last Name': 'Bennett',\n",
       "  'Age': 42,\n",
       "  'Education': 'Doctoral',\n",
       "  'Occupation': 'Astronomer',\n",
       "  'Experience (Years)': 13,\n",
       "  'Salary': 44826},\n",
       " {'First Name': 'Blake',\n",
       "  'Last Name': 'Tucker',\n",
       "  'Age': 42,\n",
       "  'Education': 'Doctoral',\n",
       "  'Occupation': 'Firefighter',\n",
       "  'Experience (Years)': 21,\n",
       "  'Salary': 36761},\n",
       " {'First Name': 'Alan',\n",
       "  'Last Name': 'Sullivan',\n",
       "  'Age': 46,\n",
       "  'Education': 'Doctoral',\n",
       "  'Occupation': 'Singer',\n",
       "  'Experience (Years)': 2,\n",
       "  'Salary': 18440},\n",
       " {'First Name': 'Sofia',\n",
       "  'Last Name': 'Hall',\n",
       "  'Age': 41,\n",
       "  'Education': 'Doctoral',\n",
       "  'Occupation': 'Baker',\n",
       "  'Experience (Years)': 1,\n",
       "  'Salary': 25904}]"
      ]
     },
     "execution_count": 67,
     "metadata": {},
     "output_type": "execute_result"
    }
   ],
   "source": [
    "lista_nueva = list(filter(lambda x: x['Education'] == 'Doctoral', citizens))\n",
    "print(lista_nueva)\n",
    "\n",
    "doctoral = []\n",
    "def filtrar(dicc, parametro, condicion, lista):\n",
    "    '''\n",
    "    Con esta funcion, pasamos a una lista nueva, todos los diccionarios de la lista principal que cumplan una condicion\n",
    "    dicc tiene que ser el diccionario principal\n",
    "    el parámetro es el valor del diccionario que queremos filtrar. Este valor es un str\n",
    "    la condicion es el valor por el cual queremos filtrar. Este valor es str\n",
    "    Por último, la lista es una lista a la que vamos a añadir todos los valores filtrados\n",
    "    '''\n",
    "    for i in dicc:\n",
    "        if i[parametro] == condicion:\n",
    "            lista.append(i)\n",
    "        else:\n",
    "            pass\n",
    "    lista\n",
    "    return lista\n",
    "\n",
    "filtrar(citizens, 'Education', 'Doctoral', doctoral)"
   ]
  },
  {
   "cell_type": "markdown",
   "id": "8364a01f",
   "metadata": {
    "id": "8364a01f"
   },
   "source": [
    "# Exercise 6:\n",
    "\n",
    "1. Use a `lambda` function alongside with `map()` to get a list of strings with the following pattern:\n",
    "\n",
    "\"First Name is number_of_years years old\"\n",
    "\n",
    "The expected output should be:\n",
    "\n",
    "```python\n",
    "['Preston Cunningham is 49 years old',\n",
    " 'Madaline Farrell is 41 years old',\n",
    " 'Eleanor Carter is 49 years old',\n",
    " 'Adison Hall is 42 years old',\n",
    " 'Grace Cooper is 49 years old',\n",
    " 'Alford Kelley is 49 years old',\n",
    " 'Vincent Anderson is 47 years old',\n",
    " 'Myra Wright is 45 years old',\n",
    " 'Chester Bennett is 42 years old',\n",
    " 'Blake Tucker is 42 years old',\n",
    " 'Paige Ryan is 43 years old',\n",
    " 'Natalie Ellis is 45 years old',\n",
    " 'Martin Thompson is 47 years old',\n",
    " 'Alan Sullivan is 46 years old',\n",
    " 'Inga Bergman is 41 years old',\n",
    " 'Freddy Brown is 48 years old',\n",
    " 'Adelaide Farrell is 42 years old',\n",
    " 'Luke Cooper is 40 years old',\n",
    " 'Sofia Hall is 41 years old',\n",
    " 'Ashton Kelly is 49 years old']\n",
    "```\n",
    "\n",
    "Hint: use `str()` to cast an integer into a string."
   ]
  },
  {
   "cell_type": "code",
   "execution_count": 68,
   "id": "e38d3be6",
   "metadata": {},
   "outputs": [
    {
     "data": {
      "text/plain": [
       "['Preston Cunningham is 49 years old',\n",
       " 'Madaline Farrell is 41 years old',\n",
       " 'Eleanor Carter is 49 years old',\n",
       " 'Adison Hall is 42 years old',\n",
       " 'Grace Cooper is 49 years old',\n",
       " 'Alford Kelley is 49 years old',\n",
       " 'Vincent Anderson is 47 years old',\n",
       " 'Myra Wright is 45 years old',\n",
       " 'Chester Bennett is 42 years old',\n",
       " 'Blake Tucker is 42 years old',\n",
       " 'Paige Ryan is 43 years old',\n",
       " 'Natalie Ellis is 45 years old',\n",
       " 'Martin Thompson is 47 years old',\n",
       " 'Alan Sullivan is 46 years old',\n",
       " 'Inga Bergman is 41 years old',\n",
       " 'Freddy Brown is 48 years old',\n",
       " 'Adelaide Farrell is 42 years old',\n",
       " 'Luke Cooper is 40 years old',\n",
       " 'Sofia Hall is 41 years old',\n",
       " 'Ashton Kelly is 49 years old']"
      ]
     },
     "execution_count": 68,
     "metadata": {},
     "output_type": "execute_result"
    }
   ],
   "source": [
    "lista_nombre_edad = list(map(lambda x: str(x['First Name']) + \" \" + str(x['Last Name'])+ \" is \" + str(x['Age']) + \" years old\", citizens))\n",
    "lista_nombre_edad"
   ]
  }
 ],
 "metadata": {
  "colab": {
   "provenance": []
  },
  "kernelspec": {
   "display_name": "Python 3 (ipykernel)",
   "language": "python",
   "name": "python3"
  },
  "language_info": {
   "codemirror_mode": {
    "name": "ipython",
    "version": 3
   },
   "file_extension": ".py",
   "mimetype": "text/x-python",
   "name": "python",
   "nbconvert_exporter": "python",
   "pygments_lexer": "ipython3",
   "version": "3.9.7"
  }
 },
 "nbformat": 4,
 "nbformat_minor": 5
}
