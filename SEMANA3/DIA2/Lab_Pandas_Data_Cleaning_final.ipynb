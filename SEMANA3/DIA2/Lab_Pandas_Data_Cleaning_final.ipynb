{
  "cells": [
    {
      "cell_type": "markdown",
      "metadata": {
        "id": "t9OXqF-2W2nP",
        "toc": true
      },
      "source": [
        "<h1>Table of Contents<span class=\"tocSkip\"></span></h1>\n",
        "<div class=\"toc\"><ul class=\"toc-item\"><li><span><a href=\"#Data-Cleaning\" data-toc-modified-id=\"Data-Cleaning-1\"><span class=\"toc-item-num\">1&nbsp;&nbsp;</span>Data Cleaning</a></span></li><li><span><a href=\"#Examining-Data-for-Potential-Issues\" data-toc-modified-id=\"Examining-Data-for-Potential-Issues-2\"><span class=\"toc-item-num\">2&nbsp;&nbsp;</span>Examining Data for Potential Issues</a></span></li><li><span><a href=\"#Missing-Values\" data-toc-modified-id=\"Missing-Values-3\"><span class=\"toc-item-num\">3&nbsp;&nbsp;</span>Missing Values</a></span><ul class=\"toc-item\"><li><span><a href=\"#Show-the-number-of-null-values-only-of-the-columns-that-actually-have-null-values\" data-toc-modified-id=\"Show-the-number-of-null-values-only-of-the-columns-that-actually-have-null-values-3.1\"><span class=\"toc-item-num\">3.1&nbsp;&nbsp;</span>Show the number of null values only of the columns that actually have null values</a></span></li><li><span><a href=\"#Remove-the-columns-that-have-more-than-10,000-null-values-in-them\" data-toc-modified-id=\"Remove-the-columns-that-have-more-than-10,000-null-values-in-them-3.2\"><span class=\"toc-item-num\">3.2&nbsp;&nbsp;</span>Remove the columns that have more than 10,000 null values in them</a></span></li><li><span><a href=\"#Create-a-new-dataframe-that-shows-only-the-row-where-displ-is-null.\" data-toc-modified-id=\"Create-a-new-dataframe-that-shows-only-the-row-where-displ-is-null.-3.3\"><span class=\"toc-item-num\">3.3&nbsp;&nbsp;</span>Create a new dataframe that shows only the row where <code>displ</code> is null.</a></span></li><li><span><a href=\"#Fill-nan-values-with-the-most-appropriate-technique\" data-toc-modified-id=\"Fill-nan-values-with-the-most-appropriate-technique-3.4\"><span class=\"toc-item-num\">3.4&nbsp;&nbsp;</span>Fill nan values with the most appropriate technique</a></span></li><li><span><a href=\"#Bonus:\" data-toc-modified-id=\"Bonus:-3.5\"><span class=\"toc-item-num\">3.5&nbsp;&nbsp;</span>Bonus:</a></span></li></ul></li><li><span><a href=\"#Incorrect-Values\" data-toc-modified-id=\"Incorrect-Values-4\"><span class=\"toc-item-num\">4&nbsp;&nbsp;</span>Incorrect Values</a></span><ul class=\"toc-item\"><li><span><a href=\"#Check-similar-rows\" data-toc-modified-id=\"Check-similar-rows-4.1\"><span class=\"toc-item-num\">4.1&nbsp;&nbsp;</span>Check similar rows</a></span></li><li><span><a href=\"#Bonus:\" data-toc-modified-id=\"Bonus:-4.2\"><span class=\"toc-item-num\">4.2&nbsp;&nbsp;</span>Bonus:</a></span></li></ul></li><li><span><a href=\"#Low-Variance-Columns\" data-toc-modified-id=\"Low-Variance-Columns-5\"><span class=\"toc-item-num\">5&nbsp;&nbsp;</span>Low Variance Columns</a></span><ul class=\"toc-item\"><li><span><a href=\"#Use-the-the-drop-method-like-we-did-earlier-in-this-lesson-to-remove-the-non-informative-columns-from-our-data-frame.\" data-toc-modified-id=\"Use-the-the-drop-method-like-we-did-earlier-in-this-lesson-to-remove-the-non-informative-columns-from-our-data-frame.-5.1\"><span class=\"toc-item-num\">5.1&nbsp;&nbsp;</span>Use the the drop method like we did earlier in this lesson to remove the non informative columns from our data frame.</a></span></li></ul></li><li><span><a href=\"#Extreme-Values-and-Outliers\" data-toc-modified-id=\"Extreme-Values-and-Outliers-6\"><span class=\"toc-item-num\">6&nbsp;&nbsp;</span>Extreme Values and Outliers</a></span></li><li><span><a href=\"#Data-Type-Correction\" data-toc-modified-id=\"Data-Type-Correction-7\"><span class=\"toc-item-num\">7&nbsp;&nbsp;</span>Data Type Correction</a></span><ul class=\"toc-item\"><li><span><a href=\"#Check-the-data-type-of-each-column\" data-toc-modified-id=\"Check-the-data-type-of-each-column-7.1\"><span class=\"toc-item-num\">7.1&nbsp;&nbsp;</span>Check the data type of each column</a></span></li><li><span><a href=\"#Cleaning-years\" data-toc-modified-id=\"Cleaning-years-7.2\"><span class=\"toc-item-num\">7.2&nbsp;&nbsp;</span>Cleaning years</a></span></li></ul></li><li><span><a href=\"#Cleaning-Text-and-Removing-Special-Characters\" data-toc-modified-id=\"Cleaning-Text-and-Removing-Special-Characters-8\"><span class=\"toc-item-num\">8&nbsp;&nbsp;</span>Cleaning Text and Removing Special Characters</a></span></li><li><span><a href=\"#Finding-and-Removing-Duplicates\" data-toc-modified-id=\"Finding-and-Removing-Duplicates-9\"><span class=\"toc-item-num\">9&nbsp;&nbsp;</span>Finding and Removing Duplicates</a></span><ul class=\"toc-item\"><li><span><a href=\"#Drop-duplicate-rows-that-are-completely-equal\" data-toc-modified-id=\"Drop-duplicate-rows-that-are-completely-equal-9.1\"><span class=\"toc-item-num\">9.1&nbsp;&nbsp;</span>Drop duplicate rows that are completely equal</a></span></li><li><span><a href=\"#Select-a-subset-of-columns,-remove-all-other-columns,-and-then-use-the-drop_duplicates-method-to-drop-any-duplicate-records-based-on-the-remaining-columns.\" data-toc-modified-id=\"Select-a-subset-of-columns,-remove-all-other-columns,-and-then-use-the-drop_duplicates-method-to-drop-any-duplicate-records-based-on-the-remaining-columns.-9.2\"><span class=\"toc-item-num\">9.2&nbsp;&nbsp;</span>Select a subset of columns, remove all other columns, and then use the drop_duplicates method to drop any duplicate records based on the remaining columns.</a></span></li></ul></li><li><span><a href=\"#Export-clean-dataset\" data-toc-modified-id=\"Export-clean-dataset-10\"><span class=\"toc-item-num\">10&nbsp;&nbsp;</span>Export clean dataset</a></span></li></ul></div>"
      ]
    },
    {
      "cell_type": "markdown",
      "metadata": {
        "id": "xSyGh2-QW2nZ"
      },
      "source": [
        "# Data Cleaning\n",
        "\n",
        "\n",
        "Lab Goals\n",
        "\n",
        "+ Examine data for potential issues.\n",
        "+ Identify and fill in missing values.\n",
        "+ Identify and correct incorrect values.\n",
        "+ Remove low variance columns.\n",
        "+ Identify potential outliers.\n",
        "+ Correct incorrect data types.\n",
        "+ Remove special characters and clean categorical variables.\n",
        "+ Identify and remove duplicate records.\n",
        "\n",
        "Introduction\n",
        "\n",
        "When working with data sets, you will find that they often require a bit of cleaning. Whether Pandas originally read the data types incorrectly, records are duplicated, the data contains special characters or missing value, or there are slightly different references to the same entity, every data analyst must know how to clean the data they are working with before analyzing it. In this lesson, you will learn about some of the most common problems that make data messy and methods for correcting those problems and cleaning your data.\n",
        "\n",
        "The data set we are going to be using for this lesson is a messy version of the vehicles data set we worked with in the previous lesson. Let's import this version of our data set so that we can then practice cleaning it up."
      ]
    },
    {
      "cell_type": "code",
      "execution_count": 41,
      "metadata": {
        "id": "gZzwYYiSW2nf"
      },
      "outputs": [],
      "source": [
        "import pandas as pd\n",
        "import numpy as np"
      ]
    },
    {
      "cell_type": "code",
      "execution_count": 42,
      "metadata": {
        "colab": {
          "base_uri": "https://localhost:8080/"
        },
        "id": "CUN9fIfdW2ni",
        "outputId": "bbf767e6-896e-458e-bd38-e7ef94100278"
      },
      "outputs": [
        {
          "output_type": "stream",
          "name": "stderr",
          "text": [
            "/usr/local/lib/python3.7/dist-packages/IPython/core/interactiveshell.py:3326: DtypeWarning: Columns (70,71,72,73,74,76,79) have mixed types.Specify dtype option on import or set low_memory=False.\n",
            "  exec(code_obj, self.user_global_ns, self.user_ns)\n"
          ]
        }
      ],
      "source": [
        "#Load data from vehicles_messy.csv\n",
        "\n",
        "data = pd.read_csv('/content/vehicles_messy.csv')"
      ]
    },
    {
      "cell_type": "markdown",
      "metadata": {
        "id": "FVY_b-4QW2nj"
      },
      "source": [
        "# Examining Data for Potential Issues\n",
        "\n",
        "One of the first things we want to do is examine the data and look for any **potential issues**. Some of the things we are interested in identifying in the data at this stage include:\n",
        "\n",
        "- Missing values\n",
        "- Special characters\n",
        "- Incorrect values\n",
        "- Extreme values or outliers\n",
        "- Duplicate records\n",
        "- Incorrect data types\n",
        "\n",
        "The presence of these may cause problems when it's time to analyze the data, so we want to make sure we address them beforehand. We can start by visually inspecting the data using the `.head` method, which will show us the first 5 rows of data. "
      ]
    },
    {
      "cell_type": "code",
      "execution_count": 4,
      "metadata": {
        "colab": {
          "base_uri": "https://localhost:8080/",
          "height": 473
        },
        "id": "JHxPAfEiW2nk",
        "outputId": "1951c5e3-ffd5-42f4-e823-0f36009d9449"
      },
      "outputs": [
        {
          "output_type": "execute_result",
          "data": {
            "text/plain": [
              "   barrels08  barrelsA08  charge120  charge240  city08  city08U  cityA08  \\\n",
              "0  15.695714         0.0        0.0        0.0      19      0.0        0   \n",
              "1  29.964545         0.0        0.0        0.0       9      0.0        0   \n",
              "2  12.207778         0.0        0.0        0.0      23      0.0        0   \n",
              "3  29.964545         0.0        0.0        0.0      10      0.0        0   \n",
              "4  17.347895         0.0        0.0        0.0      17      0.0        0   \n",
              "\n",
              "   cityA08U  cityCD  cityE  ...  mfrCode  c240Dscr  charge240b  c240bDscr  \\\n",
              "0       0.0     0.0    0.0  ...      NaN       NaN         0.0        NaN   \n",
              "1       0.0     0.0    0.0  ...      NaN       NaN         0.0        NaN   \n",
              "2       0.0     0.0    0.0  ...      NaN       NaN         0.0        NaN   \n",
              "3       0.0     0.0    0.0  ...      NaN       NaN         0.0        NaN   \n",
              "4       0.0     0.0    0.0  ...      NaN       NaN         0.0        NaN   \n",
              "\n",
              "                      createdOn                    modifiedOn  startStop  \\\n",
              "0  Tue Jan 01 00:00:00 EST 2013  Tue Jan 01 00:00:00 EST 2013        NaN   \n",
              "1  Tue Jan 01 00:00:00 EST 2013  Tue Jan 01 00:00:00 EST 2013        NaN   \n",
              "2  Tue Jan 01 00:00:00 EST 2013  Tue Jan 01 00:00:00 EST 2013        NaN   \n",
              "3  Tue Jan 01 00:00:00 EST 2013  Tue Jan 01 00:00:00 EST 2013        NaN   \n",
              "4  Tue Jan 01 00:00:00 EST 2013  Tue Jan 01 00:00:00 EST 2013        NaN   \n",
              "\n",
              "   phevCity  phevHwy  phevComb  \n",
              "0         0        0         0  \n",
              "1         0        0         0  \n",
              "2         0        0         0  \n",
              "3         0        0         0  \n",
              "4         0        0         0  \n",
              "\n",
              "[5 rows x 83 columns]"
            ],
            "text/html": [
              "\n",
              "  <div id=\"df-2f521e45-f6d2-4292-a6d1-8e4081004434\">\n",
              "    <div class=\"colab-df-container\">\n",
              "      <div>\n",
              "<style scoped>\n",
              "    .dataframe tbody tr th:only-of-type {\n",
              "        vertical-align: middle;\n",
              "    }\n",
              "\n",
              "    .dataframe tbody tr th {\n",
              "        vertical-align: top;\n",
              "    }\n",
              "\n",
              "    .dataframe thead th {\n",
              "        text-align: right;\n",
              "    }\n",
              "</style>\n",
              "<table border=\"1\" class=\"dataframe\">\n",
              "  <thead>\n",
              "    <tr style=\"text-align: right;\">\n",
              "      <th></th>\n",
              "      <th>barrels08</th>\n",
              "      <th>barrelsA08</th>\n",
              "      <th>charge120</th>\n",
              "      <th>charge240</th>\n",
              "      <th>city08</th>\n",
              "      <th>city08U</th>\n",
              "      <th>cityA08</th>\n",
              "      <th>cityA08U</th>\n",
              "      <th>cityCD</th>\n",
              "      <th>cityE</th>\n",
              "      <th>...</th>\n",
              "      <th>mfrCode</th>\n",
              "      <th>c240Dscr</th>\n",
              "      <th>charge240b</th>\n",
              "      <th>c240bDscr</th>\n",
              "      <th>createdOn</th>\n",
              "      <th>modifiedOn</th>\n",
              "      <th>startStop</th>\n",
              "      <th>phevCity</th>\n",
              "      <th>phevHwy</th>\n",
              "      <th>phevComb</th>\n",
              "    </tr>\n",
              "  </thead>\n",
              "  <tbody>\n",
              "    <tr>\n",
              "      <th>0</th>\n",
              "      <td>15.695714</td>\n",
              "      <td>0.0</td>\n",
              "      <td>0.0</td>\n",
              "      <td>0.0</td>\n",
              "      <td>19</td>\n",
              "      <td>0.0</td>\n",
              "      <td>0</td>\n",
              "      <td>0.0</td>\n",
              "      <td>0.0</td>\n",
              "      <td>0.0</td>\n",
              "      <td>...</td>\n",
              "      <td>NaN</td>\n",
              "      <td>NaN</td>\n",
              "      <td>0.0</td>\n",
              "      <td>NaN</td>\n",
              "      <td>Tue Jan 01 00:00:00 EST 2013</td>\n",
              "      <td>Tue Jan 01 00:00:00 EST 2013</td>\n",
              "      <td>NaN</td>\n",
              "      <td>0</td>\n",
              "      <td>0</td>\n",
              "      <td>0</td>\n",
              "    </tr>\n",
              "    <tr>\n",
              "      <th>1</th>\n",
              "      <td>29.964545</td>\n",
              "      <td>0.0</td>\n",
              "      <td>0.0</td>\n",
              "      <td>0.0</td>\n",
              "      <td>9</td>\n",
              "      <td>0.0</td>\n",
              "      <td>0</td>\n",
              "      <td>0.0</td>\n",
              "      <td>0.0</td>\n",
              "      <td>0.0</td>\n",
              "      <td>...</td>\n",
              "      <td>NaN</td>\n",
              "      <td>NaN</td>\n",
              "      <td>0.0</td>\n",
              "      <td>NaN</td>\n",
              "      <td>Tue Jan 01 00:00:00 EST 2013</td>\n",
              "      <td>Tue Jan 01 00:00:00 EST 2013</td>\n",
              "      <td>NaN</td>\n",
              "      <td>0</td>\n",
              "      <td>0</td>\n",
              "      <td>0</td>\n",
              "    </tr>\n",
              "    <tr>\n",
              "      <th>2</th>\n",
              "      <td>12.207778</td>\n",
              "      <td>0.0</td>\n",
              "      <td>0.0</td>\n",
              "      <td>0.0</td>\n",
              "      <td>23</td>\n",
              "      <td>0.0</td>\n",
              "      <td>0</td>\n",
              "      <td>0.0</td>\n",
              "      <td>0.0</td>\n",
              "      <td>0.0</td>\n",
              "      <td>...</td>\n",
              "      <td>NaN</td>\n",
              "      <td>NaN</td>\n",
              "      <td>0.0</td>\n",
              "      <td>NaN</td>\n",
              "      <td>Tue Jan 01 00:00:00 EST 2013</td>\n",
              "      <td>Tue Jan 01 00:00:00 EST 2013</td>\n",
              "      <td>NaN</td>\n",
              "      <td>0</td>\n",
              "      <td>0</td>\n",
              "      <td>0</td>\n",
              "    </tr>\n",
              "    <tr>\n",
              "      <th>3</th>\n",
              "      <td>29.964545</td>\n",
              "      <td>0.0</td>\n",
              "      <td>0.0</td>\n",
              "      <td>0.0</td>\n",
              "      <td>10</td>\n",
              "      <td>0.0</td>\n",
              "      <td>0</td>\n",
              "      <td>0.0</td>\n",
              "      <td>0.0</td>\n",
              "      <td>0.0</td>\n",
              "      <td>...</td>\n",
              "      <td>NaN</td>\n",
              "      <td>NaN</td>\n",
              "      <td>0.0</td>\n",
              "      <td>NaN</td>\n",
              "      <td>Tue Jan 01 00:00:00 EST 2013</td>\n",
              "      <td>Tue Jan 01 00:00:00 EST 2013</td>\n",
              "      <td>NaN</td>\n",
              "      <td>0</td>\n",
              "      <td>0</td>\n",
              "      <td>0</td>\n",
              "    </tr>\n",
              "    <tr>\n",
              "      <th>4</th>\n",
              "      <td>17.347895</td>\n",
              "      <td>0.0</td>\n",
              "      <td>0.0</td>\n",
              "      <td>0.0</td>\n",
              "      <td>17</td>\n",
              "      <td>0.0</td>\n",
              "      <td>0</td>\n",
              "      <td>0.0</td>\n",
              "      <td>0.0</td>\n",
              "      <td>0.0</td>\n",
              "      <td>...</td>\n",
              "      <td>NaN</td>\n",
              "      <td>NaN</td>\n",
              "      <td>0.0</td>\n",
              "      <td>NaN</td>\n",
              "      <td>Tue Jan 01 00:00:00 EST 2013</td>\n",
              "      <td>Tue Jan 01 00:00:00 EST 2013</td>\n",
              "      <td>NaN</td>\n",
              "      <td>0</td>\n",
              "      <td>0</td>\n",
              "      <td>0</td>\n",
              "    </tr>\n",
              "  </tbody>\n",
              "</table>\n",
              "<p>5 rows × 83 columns</p>\n",
              "</div>\n",
              "      <button class=\"colab-df-convert\" onclick=\"convertToInteractive('df-2f521e45-f6d2-4292-a6d1-8e4081004434')\"\n",
              "              title=\"Convert this dataframe to an interactive table.\"\n",
              "              style=\"display:none;\">\n",
              "        \n",
              "  <svg xmlns=\"http://www.w3.org/2000/svg\" height=\"24px\"viewBox=\"0 0 24 24\"\n",
              "       width=\"24px\">\n",
              "    <path d=\"M0 0h24v24H0V0z\" fill=\"none\"/>\n",
              "    <path d=\"M18.56 5.44l.94 2.06.94-2.06 2.06-.94-2.06-.94-.94-2.06-.94 2.06-2.06.94zm-11 1L8.5 8.5l.94-2.06 2.06-.94-2.06-.94L8.5 2.5l-.94 2.06-2.06.94zm10 10l.94 2.06.94-2.06 2.06-.94-2.06-.94-.94-2.06-.94 2.06-2.06.94z\"/><path d=\"M17.41 7.96l-1.37-1.37c-.4-.4-.92-.59-1.43-.59-.52 0-1.04.2-1.43.59L10.3 9.45l-7.72 7.72c-.78.78-.78 2.05 0 2.83L4 21.41c.39.39.9.59 1.41.59.51 0 1.02-.2 1.41-.59l7.78-7.78 2.81-2.81c.8-.78.8-2.07 0-2.86zM5.41 20L4 18.59l7.72-7.72 1.47 1.35L5.41 20z\"/>\n",
              "  </svg>\n",
              "      </button>\n",
              "      \n",
              "  <style>\n",
              "    .colab-df-container {\n",
              "      display:flex;\n",
              "      flex-wrap:wrap;\n",
              "      gap: 12px;\n",
              "    }\n",
              "\n",
              "    .colab-df-convert {\n",
              "      background-color: #E8F0FE;\n",
              "      border: none;\n",
              "      border-radius: 50%;\n",
              "      cursor: pointer;\n",
              "      display: none;\n",
              "      fill: #1967D2;\n",
              "      height: 32px;\n",
              "      padding: 0 0 0 0;\n",
              "      width: 32px;\n",
              "    }\n",
              "\n",
              "    .colab-df-convert:hover {\n",
              "      background-color: #E2EBFA;\n",
              "      box-shadow: 0px 1px 2px rgba(60, 64, 67, 0.3), 0px 1px 3px 1px rgba(60, 64, 67, 0.15);\n",
              "      fill: #174EA6;\n",
              "    }\n",
              "\n",
              "    [theme=dark] .colab-df-convert {\n",
              "      background-color: #3B4455;\n",
              "      fill: #D2E3FC;\n",
              "    }\n",
              "\n",
              "    [theme=dark] .colab-df-convert:hover {\n",
              "      background-color: #434B5C;\n",
              "      box-shadow: 0px 1px 3px 1px rgba(0, 0, 0, 0.15);\n",
              "      filter: drop-shadow(0px 1px 2px rgba(0, 0, 0, 0.3));\n",
              "      fill: #FFFFFF;\n",
              "    }\n",
              "  </style>\n",
              "\n",
              "      <script>\n",
              "        const buttonEl =\n",
              "          document.querySelector('#df-2f521e45-f6d2-4292-a6d1-8e4081004434 button.colab-df-convert');\n",
              "        buttonEl.style.display =\n",
              "          google.colab.kernel.accessAllowed ? 'block' : 'none';\n",
              "\n",
              "        async function convertToInteractive(key) {\n",
              "          const element = document.querySelector('#df-2f521e45-f6d2-4292-a6d1-8e4081004434');\n",
              "          const dataTable =\n",
              "            await google.colab.kernel.invokeFunction('convertToInteractive',\n",
              "                                                     [key], {});\n",
              "          if (!dataTable) return;\n",
              "\n",
              "          const docLinkHtml = 'Like what you see? Visit the ' +\n",
              "            '<a target=\"_blank\" href=https://colab.research.google.com/notebooks/data_table.ipynb>data table notebook</a>'\n",
              "            + ' to learn more about interactive tables.';\n",
              "          element.innerHTML = '';\n",
              "          dataTable['output_type'] = 'display_data';\n",
              "          await google.colab.output.renderOutput(dataTable, element);\n",
              "          const docLink = document.createElement('div');\n",
              "          docLink.innerHTML = docLinkHtml;\n",
              "          element.appendChild(docLink);\n",
              "        }\n",
              "      </script>\n",
              "    </div>\n",
              "  </div>\n",
              "  "
            ]
          },
          "metadata": {},
          "execution_count": 4
        }
      ],
      "source": [
        "data.head()\n"
      ]
    },
    {
      "cell_type": "markdown",
      "metadata": {
        "id": "kM83ALVwW2nl"
      },
      "source": [
        "But how big actually is our dataframe??? Check it with `.shape` method"
      ]
    },
    {
      "cell_type": "code",
      "execution_count": 5,
      "metadata": {
        "colab": {
          "base_uri": "https://localhost:8080/"
        },
        "id": "mG3sSAA2W2nn",
        "outputId": "4425b79b-d5dd-4e32-b918-27e735718475"
      },
      "outputs": [
        {
          "output_type": "execute_result",
          "data": {
            "text/plain": [
              "(37843, 83)"
            ]
          },
          "metadata": {},
          "execution_count": 5
        }
      ],
      "source": [
        "data.shape #El primer dato son las filas y el segundo las columnas\n"
      ]
    },
    {
      "cell_type": "markdown",
      "metadata": {
        "id": "SKYfsl5MW2no"
      },
      "source": [
        "Let's dive a little more in the content of our data set. Is there any method that shows us the **column names**, its **data types** and number of **non-null values**?"
      ]
    },
    {
      "cell_type": "code",
      "execution_count": 6,
      "metadata": {
        "colab": {
          "base_uri": "https://localhost:8080/"
        },
        "id": "In79_XnHW2np",
        "outputId": "2741a35a-b9d7-4339-e912-203274b2537e"
      },
      "outputs": [
        {
          "output_type": "stream",
          "name": "stdout",
          "text": [
            "<class 'pandas.core.frame.DataFrame'>\n",
            "RangeIndex: 37843 entries, 0 to 37842\n",
            "Data columns (total 83 columns):\n",
            " #   Column           Non-Null Count  Dtype  \n",
            "---  ------           --------------  -----  \n",
            " 0   barrels08        37843 non-null  float64\n",
            " 1   barrelsA08       37843 non-null  float64\n",
            " 2   charge120        37843 non-null  float64\n",
            " 3   charge240        37843 non-null  float64\n",
            " 4   city08           37843 non-null  int64  \n",
            " 5   city08U          37843 non-null  float64\n",
            " 6   cityA08          37843 non-null  int64  \n",
            " 7   cityA08U         37843 non-null  float64\n",
            " 8   cityCD           37843 non-null  float64\n",
            " 9   cityE            37843 non-null  float64\n",
            " 10  cityUF           37843 non-null  float64\n",
            " 11  co2              37843 non-null  int64  \n",
            " 12  co2A             37843 non-null  int64  \n",
            " 13  co2TailpipeAGpm  37843 non-null  float64\n",
            " 14  co2TailpipeGpm   37843 non-null  float64\n",
            " 15  comb08           37843 non-null  int64  \n",
            " 16  comb08U          37843 non-null  float64\n",
            " 17  combA08          37843 non-null  int64  \n",
            " 18  combA08U         37843 non-null  float64\n",
            " 19  combE            37843 non-null  float64\n",
            " 20  combinedCD       37843 non-null  float64\n",
            " 21  combinedUF       37843 non-null  float64\n",
            " 22  cylinders        37720 non-null  float64\n",
            " 23  displ            37723 non-null  float64\n",
            " 24  drive            36654 non-null  object \n",
            " 25  engId            37843 non-null  int64  \n",
            " 26  eng_dscr         22440 non-null  object \n",
            " 27  feScore          37843 non-null  int64  \n",
            " 28  fuelCost08       37843 non-null  int64  \n",
            " 29  fuelCostA08      37843 non-null  int64  \n",
            " 30  fuelType         37843 non-null  object \n",
            " 31  fuelType1        37843 non-null  object \n",
            " 32  ghgScore         37843 non-null  int64  \n",
            " 33  ghgScoreA        37843 non-null  int64  \n",
            " 34  highway08        37843 non-null  int64  \n",
            " 35  highway08U       37843 non-null  float64\n",
            " 36  highwayA08       37843 non-null  int64  \n",
            " 37  highwayA08U      37843 non-null  float64\n",
            " 38  highwayCD        37843 non-null  float64\n",
            " 39  highwayE         37843 non-null  float64\n",
            " 40  highwayUF        37843 non-null  float64\n",
            " 41  hlv              37843 non-null  int64  \n",
            " 42  hpv              37843 non-null  int64  \n",
            " 43  id               37843 non-null  int64  \n",
            " 44  lv2              37843 non-null  int64  \n",
            " 45  lv4              37843 non-null  int64  \n",
            " 46  make             37843 non-null  object \n",
            " 47  model            37843 non-null  object \n",
            " 48  mpgData          37843 non-null  object \n",
            " 49  phevBlended      37843 non-null  bool   \n",
            " 50  pv2              37843 non-null  int64  \n",
            " 51  pv4              37843 non-null  int64  \n",
            " 52  range            37843 non-null  int64  \n",
            " 53  rangeCity        37843 non-null  float64\n",
            " 54  rangeCityA       37843 non-null  float64\n",
            " 55  rangeHwy         37843 non-null  float64\n",
            " 56  rangeHwyA        37843 non-null  float64\n",
            " 57  trany            37832 non-null  object \n",
            " 58  UCity            37843 non-null  float64\n",
            " 59  UCityA           37843 non-null  float64\n",
            " 60  UHighway         37843 non-null  float64\n",
            " 61  UHighwayA        37843 non-null  float64\n",
            " 62  VClass           37843 non-null  object \n",
            " 63  year             37843 non-null  int64  \n",
            " 64  youSaveSpend     37843 non-null  int64  \n",
            " 65  guzzler          2281 non-null   object \n",
            " 66  trans_dscr       15047 non-null  object \n",
            " 67  tCharger         5186 non-null   object \n",
            " 68  sCharger         666 non-null    object \n",
            " 69  atvType          3072 non-null   object \n",
            " 70  fuelType2        1408 non-null   object \n",
            " 71  rangeA           1403 non-null   object \n",
            " 72  evMotor          562 non-null    object \n",
            " 73  mfrCode          7025 non-null   object \n",
            " 74  c240Dscr         37 non-null     object \n",
            " 75  charge240b       37843 non-null  float64\n",
            " 76  c240bDscr        36 non-null     object \n",
            " 77  createdOn        37843 non-null  object \n",
            " 78  modifiedOn       37843 non-null  object \n",
            " 79  startStop        6138 non-null   object \n",
            " 80  phevCity         37843 non-null  int64  \n",
            " 81  phevHwy          37843 non-null  int64  \n",
            " 82  phevComb         37843 non-null  int64  \n",
            "dtypes: bool(1), float64(32), int64(27), object(23)\n",
            "memory usage: 23.7+ MB\n"
          ]
        }
      ],
      "source": [
        "#nombre de las columnas:\n",
        "data.info()\n"
      ]
    },
    {
      "cell_type": "markdown",
      "metadata": {
        "id": "xf0RqftTW2np"
      },
      "source": [
        "# Missing Values\n",
        "\n",
        "From this initial view, we can see that our data set contains some columns that have missing values in them and others that seem to have a lot of zero values. \n",
        "\n",
        "Let's see how prevalent missing values are in our data. We can use the Pandas `.isnull()` method to check whether the value in each field is missing (*null*) and return either True or False for each field. \n",
        "\n",
        "We can use the `.sum()` method to total up the number of True values by column, and then we can add a condition using square brackets that will filter the data and show us only columns where the number of null values were greater than zero. "
      ]
    },
    {
      "cell_type": "markdown",
      "metadata": {
        "id": "n2_RzWiXW2nq"
      },
      "source": [
        "## Show the number of null values only of the columns that actually have null values"
      ]
    },
    {
      "cell_type": "code",
      "execution_count": 7,
      "metadata": {
        "colab": {
          "base_uri": "https://localhost:8080/"
        },
        "id": "I4h12-syW2nr",
        "outputId": "3c9149a2-3cec-4da3-86fd-1789145efcfa"
      },
      "outputs": [
        {
          "output_type": "execute_result",
          "data": {
            "text/plain": [
              "barrels08         0\n",
              "barrelsA08        0\n",
              "charge120         0\n",
              "charge240         0\n",
              "city08            0\n",
              "              ...  \n",
              "modifiedOn        0\n",
              "startStop     31705\n",
              "phevCity          0\n",
              "phevHwy           0\n",
              "phevComb          0\n",
              "Length: 83, dtype: int64"
            ]
          },
          "metadata": {},
          "execution_count": 7
        }
      ],
      "source": [
        "nul_col = data.isnull().sum()\n",
        "nul_col\n",
        "#Esto da el valor total de datos nulos que tiene cada columna"
      ]
    },
    {
      "cell_type": "code",
      "execution_count": 35,
      "metadata": {
        "colab": {
          "base_uri": "https://localhost:8080/"
        },
        "id": "zZPlSDVyXPY5",
        "outputId": "8734fb07-490d-4b15-f803-47969b73df63"
      },
      "outputs": [
        {
          "output_type": "execute_result",
          "data": {
            "text/plain": [
              "cylinders       123\n",
              "displ           120\n",
              "drive          1189\n",
              "eng_dscr      15403\n",
              "trany            11\n",
              "guzzler       35562\n",
              "trans_dscr    22796\n",
              "tCharger      32657\n",
              "sCharger      37177\n",
              "atvType       34771\n",
              "fuelType2     36435\n",
              "rangeA        36440\n",
              "evMotor       37281\n",
              "mfrCode       30818\n",
              "c240Dscr      37806\n",
              "c240bDscr     37807\n",
              "startStop     31705\n",
              "dtype: int64"
            ]
          },
          "metadata": {},
          "execution_count": 35
        }
      ],
      "source": [
        "nul_col[nul_col > 0] #Con esto enseñamos el numero de ceros que tienen las columnas que tienen nulos. El resto de columnas no aparecen"
      ]
    },
    {
      "cell_type": "markdown",
      "metadata": {
        "id": "98uCGIfFW2nu"
      },
      "source": [
        "We can see that some columns have relatively few null values while others have tens of thousands of nulls. For fields that have a lot of null values, you will often have to make a judgement call. If you don't think the information is going to be very useful to your analysis, then you would remove those columns from your data frame. "
      ]
    },
    {
      "cell_type": "markdown",
      "metadata": {
        "id": "cafj5S0MW2nv"
      },
      "source": [
        "## Remove the columns that have more than 10,000 null values in them"
      ]
    },
    {
      "cell_type": "markdown",
      "metadata": {
        "id": "H7CseNQJW2nw"
      },
      "source": [
        "In Pandas, we can do that using the drop method. For our purposes, let's remove the columns that have more than 10,000 null values in them. We will add these column names to a list, and then we will pass those columns to the drop method and indicate that we want columns (not rows) dropped by setting the axis parameter to 1. "
      ]
    },
    {
      "cell_type": "code",
      "execution_count": 43,
      "metadata": {
        "id": "Y3rx39bzW2nx"
      },
      "outputs": [],
      "source": [
        "uar_seg = data.copy()\n",
        "\n",
        "col_borrar = nul_col[nul_col > 10000].index\n",
        "col_borrar\n",
        "data.drop(columns = col_borrar, inplace = True, axis = 1)\n",
        "  \n",
        "   "
      ]
    },
    {
      "cell_type": "code",
      "execution_count": 44,
      "metadata": {
        "colab": {
          "base_uri": "https://localhost:8080/"
        },
        "id": "WPNBaNRpW2ny",
        "outputId": "a9095bc9-c922-4101-98c9-55d82c0181dc"
      },
      "outputs": [
        {
          "output_type": "execute_result",
          "data": {
            "text/plain": [
              "(37843, 70)"
            ]
          },
          "metadata": {},
          "execution_count": 44
        }
      ],
      "source": [
        "#your code\n",
        "data.shape"
      ]
    },
    {
      "cell_type": "markdown",
      "metadata": {
        "id": "RMg8C4TSW2nz"
      },
      "source": [
        "This leaves us with just a handful of remaining columns that have null values. Of the columns that remain, it looks like the cylinders column and the displ column have a similar number of nulls. Perhaps they are missing for similar reasons. We can investigate this by subsetting the data set and looking at just the records where displ is null and just the columns we think will be informative in allowing us to determine a reason. "
      ]
    },
    {
      "cell_type": "markdown",
      "metadata": {
        "id": "0LYbbO9SW2nz"
      },
      "source": [
        "## Create a new dataframe that shows only the row where `displ` is null. \n",
        "Keep only the columns you think are useful"
      ]
    },
    {
      "cell_type": "code",
      "execution_count": 22,
      "metadata": {
        "colab": {
          "base_uri": "https://localhost:8080/"
        },
        "id": "yX9axMZDW2n0",
        "outputId": "472fb791-ff28-4603-80ea-0e0f06ff4972"
      },
      "outputs": [
        {
          "output_type": "execute_result",
          "data": {
            "text/plain": [
              "Int64Index([ 7138,  7139,  8143,  8144,  8146,  8147,  9212,  9213, 10329,\n",
              "            21413,\n",
              "            ...\n",
              "            30557, 30561, 30784, 30785, 30786, 30969, 30972, 30973, 30974,\n",
              "            30975],\n",
              "           dtype='int64', length=123)"
            ]
          },
          "metadata": {},
          "execution_count": 22
        }
      ],
      "source": [
        "#your code\n",
        "nul_index = data.displ[data.cylinders.isnull()].index\n",
        "nul_index"
      ]
    },
    {
      "cell_type": "code",
      "execution_count": 23,
      "metadata": {
        "colab": {
          "base_uri": "https://localhost:8080/",
          "height": 424
        },
        "id": "MfKfoW24Xc0V",
        "outputId": "c99d2fb1-8da8-432c-c214-a83f3501a451"
      },
      "outputs": [
        {
          "output_type": "execute_result",
          "data": {
            "text/plain": [
              "         make                            model     fuelType  cylinders  displ\n",
              "7138   Nissan                         Altra EV  Electricity        NaN    NaN\n",
              "7139   Toyota                          RAV4 EV  Electricity        NaN    NaN\n",
              "8143   Toyota                          RAV4 EV  Electricity        NaN    NaN\n",
              "8144     Ford                            Th!nk  Electricity        NaN    NaN\n",
              "8146     Ford           Explorer USPS Electric  Electricity        NaN    NaN\n",
              "...       ...                              ...          ...        ...    ...\n",
              "30969     Kia                    Soul Electric  Electricity        NaN    NaN\n",
              "30972   Tesla  Model S (60 kW-hr battery pack)  Electricity        NaN    NaN\n",
              "30973   Tesla                Model S AWD - 60D  Electricity        NaN    NaN\n",
              "30974   Tesla              Model S AWD - P100D  Electricity        NaN    NaN\n",
              "30975   Tesla                Model X AWD - 60D  Electricity        NaN    NaN\n",
              "\n",
              "[123 rows x 5 columns]"
            ],
            "text/html": [
              "\n",
              "  <div id=\"df-15de8a35-eaea-4350-be67-24cab22cb835\">\n",
              "    <div class=\"colab-df-container\">\n",
              "      <div>\n",
              "<style scoped>\n",
              "    .dataframe tbody tr th:only-of-type {\n",
              "        vertical-align: middle;\n",
              "    }\n",
              "\n",
              "    .dataframe tbody tr th {\n",
              "        vertical-align: top;\n",
              "    }\n",
              "\n",
              "    .dataframe thead th {\n",
              "        text-align: right;\n",
              "    }\n",
              "</style>\n",
              "<table border=\"1\" class=\"dataframe\">\n",
              "  <thead>\n",
              "    <tr style=\"text-align: right;\">\n",
              "      <th></th>\n",
              "      <th>make</th>\n",
              "      <th>model</th>\n",
              "      <th>fuelType</th>\n",
              "      <th>cylinders</th>\n",
              "      <th>displ</th>\n",
              "    </tr>\n",
              "  </thead>\n",
              "  <tbody>\n",
              "    <tr>\n",
              "      <th>7138</th>\n",
              "      <td>Nissan</td>\n",
              "      <td>Altra EV</td>\n",
              "      <td>Electricity</td>\n",
              "      <td>NaN</td>\n",
              "      <td>NaN</td>\n",
              "    </tr>\n",
              "    <tr>\n",
              "      <th>7139</th>\n",
              "      <td>Toyota</td>\n",
              "      <td>RAV4 EV</td>\n",
              "      <td>Electricity</td>\n",
              "      <td>NaN</td>\n",
              "      <td>NaN</td>\n",
              "    </tr>\n",
              "    <tr>\n",
              "      <th>8143</th>\n",
              "      <td>Toyota</td>\n",
              "      <td>RAV4 EV</td>\n",
              "      <td>Electricity</td>\n",
              "      <td>NaN</td>\n",
              "      <td>NaN</td>\n",
              "    </tr>\n",
              "    <tr>\n",
              "      <th>8144</th>\n",
              "      <td>Ford</td>\n",
              "      <td>Th!nk</td>\n",
              "      <td>Electricity</td>\n",
              "      <td>NaN</td>\n",
              "      <td>NaN</td>\n",
              "    </tr>\n",
              "    <tr>\n",
              "      <th>8146</th>\n",
              "      <td>Ford</td>\n",
              "      <td>Explorer USPS Electric</td>\n",
              "      <td>Electricity</td>\n",
              "      <td>NaN</td>\n",
              "      <td>NaN</td>\n",
              "    </tr>\n",
              "    <tr>\n",
              "      <th>...</th>\n",
              "      <td>...</td>\n",
              "      <td>...</td>\n",
              "      <td>...</td>\n",
              "      <td>...</td>\n",
              "      <td>...</td>\n",
              "    </tr>\n",
              "    <tr>\n",
              "      <th>30969</th>\n",
              "      <td>Kia</td>\n",
              "      <td>Soul Electric</td>\n",
              "      <td>Electricity</td>\n",
              "      <td>NaN</td>\n",
              "      <td>NaN</td>\n",
              "    </tr>\n",
              "    <tr>\n",
              "      <th>30972</th>\n",
              "      <td>Tesla</td>\n",
              "      <td>Model S (60 kW-hr battery pack)</td>\n",
              "      <td>Electricity</td>\n",
              "      <td>NaN</td>\n",
              "      <td>NaN</td>\n",
              "    </tr>\n",
              "    <tr>\n",
              "      <th>30973</th>\n",
              "      <td>Tesla</td>\n",
              "      <td>Model S AWD - 60D</td>\n",
              "      <td>Electricity</td>\n",
              "      <td>NaN</td>\n",
              "      <td>NaN</td>\n",
              "    </tr>\n",
              "    <tr>\n",
              "      <th>30974</th>\n",
              "      <td>Tesla</td>\n",
              "      <td>Model S AWD - P100D</td>\n",
              "      <td>Electricity</td>\n",
              "      <td>NaN</td>\n",
              "      <td>NaN</td>\n",
              "    </tr>\n",
              "    <tr>\n",
              "      <th>30975</th>\n",
              "      <td>Tesla</td>\n",
              "      <td>Model X AWD - 60D</td>\n",
              "      <td>Electricity</td>\n",
              "      <td>NaN</td>\n",
              "      <td>NaN</td>\n",
              "    </tr>\n",
              "  </tbody>\n",
              "</table>\n",
              "<p>123 rows × 5 columns</p>\n",
              "</div>\n",
              "      <button class=\"colab-df-convert\" onclick=\"convertToInteractive('df-15de8a35-eaea-4350-be67-24cab22cb835')\"\n",
              "              title=\"Convert this dataframe to an interactive table.\"\n",
              "              style=\"display:none;\">\n",
              "        \n",
              "  <svg xmlns=\"http://www.w3.org/2000/svg\" height=\"24px\"viewBox=\"0 0 24 24\"\n",
              "       width=\"24px\">\n",
              "    <path d=\"M0 0h24v24H0V0z\" fill=\"none\"/>\n",
              "    <path d=\"M18.56 5.44l.94 2.06.94-2.06 2.06-.94-2.06-.94-.94-2.06-.94 2.06-2.06.94zm-11 1L8.5 8.5l.94-2.06 2.06-.94-2.06-.94L8.5 2.5l-.94 2.06-2.06.94zm10 10l.94 2.06.94-2.06 2.06-.94-2.06-.94-.94-2.06-.94 2.06-2.06.94z\"/><path d=\"M17.41 7.96l-1.37-1.37c-.4-.4-.92-.59-1.43-.59-.52 0-1.04.2-1.43.59L10.3 9.45l-7.72 7.72c-.78.78-.78 2.05 0 2.83L4 21.41c.39.39.9.59 1.41.59.51 0 1.02-.2 1.41-.59l7.78-7.78 2.81-2.81c.8-.78.8-2.07 0-2.86zM5.41 20L4 18.59l7.72-7.72 1.47 1.35L5.41 20z\"/>\n",
              "  </svg>\n",
              "      </button>\n",
              "      \n",
              "  <style>\n",
              "    .colab-df-container {\n",
              "      display:flex;\n",
              "      flex-wrap:wrap;\n",
              "      gap: 12px;\n",
              "    }\n",
              "\n",
              "    .colab-df-convert {\n",
              "      background-color: #E8F0FE;\n",
              "      border: none;\n",
              "      border-radius: 50%;\n",
              "      cursor: pointer;\n",
              "      display: none;\n",
              "      fill: #1967D2;\n",
              "      height: 32px;\n",
              "      padding: 0 0 0 0;\n",
              "      width: 32px;\n",
              "    }\n",
              "\n",
              "    .colab-df-convert:hover {\n",
              "      background-color: #E2EBFA;\n",
              "      box-shadow: 0px 1px 2px rgba(60, 64, 67, 0.3), 0px 1px 3px 1px rgba(60, 64, 67, 0.15);\n",
              "      fill: #174EA6;\n",
              "    }\n",
              "\n",
              "    [theme=dark] .colab-df-convert {\n",
              "      background-color: #3B4455;\n",
              "      fill: #D2E3FC;\n",
              "    }\n",
              "\n",
              "    [theme=dark] .colab-df-convert:hover {\n",
              "      background-color: #434B5C;\n",
              "      box-shadow: 0px 1px 3px 1px rgba(0, 0, 0, 0.15);\n",
              "      filter: drop-shadow(0px 1px 2px rgba(0, 0, 0, 0.3));\n",
              "      fill: #FFFFFF;\n",
              "    }\n",
              "  </style>\n",
              "\n",
              "      <script>\n",
              "        const buttonEl =\n",
              "          document.querySelector('#df-15de8a35-eaea-4350-be67-24cab22cb835 button.colab-df-convert');\n",
              "        buttonEl.style.display =\n",
              "          google.colab.kernel.accessAllowed ? 'block' : 'none';\n",
              "\n",
              "        async function convertToInteractive(key) {\n",
              "          const element = document.querySelector('#df-15de8a35-eaea-4350-be67-24cab22cb835');\n",
              "          const dataTable =\n",
              "            await google.colab.kernel.invokeFunction('convertToInteractive',\n",
              "                                                     [key], {});\n",
              "          if (!dataTable) return;\n",
              "\n",
              "          const docLinkHtml = 'Like what you see? Visit the ' +\n",
              "            '<a target=\"_blank\" href=https://colab.research.google.com/notebooks/data_table.ipynb>data table notebook</a>'\n",
              "            + ' to learn more about interactive tables.';\n",
              "          element.innerHTML = '';\n",
              "          dataTable['output_type'] = 'display_data';\n",
              "          await google.colab.output.renderOutput(dataTable, element);\n",
              "          const docLink = document.createElement('div');\n",
              "          docLink.innerHTML = docLinkHtml;\n",
              "          element.appendChild(docLink);\n",
              "        }\n",
              "      </script>\n",
              "    </div>\n",
              "  </div>\n",
              "  "
            ]
          },
          "metadata": {},
          "execution_count": 23
        }
      ],
      "source": [
        "data.iloc[nul_index][['make', 'model', 'fuelType' ,'cylinders', 'displ']] #Parece que son nulos porque los coches son eléctricos"
      ]
    },
    {
      "cell_type": "code",
      "source": [
        "data[['cylinders', 'displ']] = data[['cylinders', 'displ']].fillna(0) \n",
        "data.iloc[nul_index][['make', 'model', 'fuelType' ,'cylinders', 'displ']]\n"
      ],
      "metadata": {
        "colab": {
          "base_uri": "https://localhost:8080/",
          "height": 424
        },
        "id": "RGlfx30R_CK0",
        "outputId": "c6ffcf09-d075-46de-fcaf-bab6546a8143"
      },
      "execution_count": 45,
      "outputs": [
        {
          "output_type": "execute_result",
          "data": {
            "text/plain": [
              "         make                            model     fuelType  cylinders  displ\n",
              "7138   Nissan                         Altra EV  Electricity        0.0    0.0\n",
              "7139   Toyota                          RAV4 EV  Electricity        0.0    0.0\n",
              "8143   Toyota                          RAV4 EV  Electricity        0.0    0.0\n",
              "8144     Ford                            Th!nk  Electricity        0.0    0.0\n",
              "8146     Ford           Explorer USPS Electric  Electricity        0.0    0.0\n",
              "...       ...                              ...          ...        ...    ...\n",
              "30969     Kia                    Soul Electric  Electricity        0.0    0.0\n",
              "30972   Tesla  Model S (60 kW-hr battery pack)  Electricity        0.0    0.0\n",
              "30973   Tesla                Model S AWD - 60D  Electricity        0.0    0.0\n",
              "30974   Tesla              Model S AWD - P100D  Electricity        0.0    0.0\n",
              "30975   Tesla                Model X AWD - 60D  Electricity        0.0    0.0\n",
              "\n",
              "[123 rows x 5 columns]"
            ],
            "text/html": [
              "\n",
              "  <div id=\"df-28e13db3-e3ee-44ba-971e-6234f017a382\">\n",
              "    <div class=\"colab-df-container\">\n",
              "      <div>\n",
              "<style scoped>\n",
              "    .dataframe tbody tr th:only-of-type {\n",
              "        vertical-align: middle;\n",
              "    }\n",
              "\n",
              "    .dataframe tbody tr th {\n",
              "        vertical-align: top;\n",
              "    }\n",
              "\n",
              "    .dataframe thead th {\n",
              "        text-align: right;\n",
              "    }\n",
              "</style>\n",
              "<table border=\"1\" class=\"dataframe\">\n",
              "  <thead>\n",
              "    <tr style=\"text-align: right;\">\n",
              "      <th></th>\n",
              "      <th>make</th>\n",
              "      <th>model</th>\n",
              "      <th>fuelType</th>\n",
              "      <th>cylinders</th>\n",
              "      <th>displ</th>\n",
              "    </tr>\n",
              "  </thead>\n",
              "  <tbody>\n",
              "    <tr>\n",
              "      <th>7138</th>\n",
              "      <td>Nissan</td>\n",
              "      <td>Altra EV</td>\n",
              "      <td>Electricity</td>\n",
              "      <td>0.0</td>\n",
              "      <td>0.0</td>\n",
              "    </tr>\n",
              "    <tr>\n",
              "      <th>7139</th>\n",
              "      <td>Toyota</td>\n",
              "      <td>RAV4 EV</td>\n",
              "      <td>Electricity</td>\n",
              "      <td>0.0</td>\n",
              "      <td>0.0</td>\n",
              "    </tr>\n",
              "    <tr>\n",
              "      <th>8143</th>\n",
              "      <td>Toyota</td>\n",
              "      <td>RAV4 EV</td>\n",
              "      <td>Electricity</td>\n",
              "      <td>0.0</td>\n",
              "      <td>0.0</td>\n",
              "    </tr>\n",
              "    <tr>\n",
              "      <th>8144</th>\n",
              "      <td>Ford</td>\n",
              "      <td>Th!nk</td>\n",
              "      <td>Electricity</td>\n",
              "      <td>0.0</td>\n",
              "      <td>0.0</td>\n",
              "    </tr>\n",
              "    <tr>\n",
              "      <th>8146</th>\n",
              "      <td>Ford</td>\n",
              "      <td>Explorer USPS Electric</td>\n",
              "      <td>Electricity</td>\n",
              "      <td>0.0</td>\n",
              "      <td>0.0</td>\n",
              "    </tr>\n",
              "    <tr>\n",
              "      <th>...</th>\n",
              "      <td>...</td>\n",
              "      <td>...</td>\n",
              "      <td>...</td>\n",
              "      <td>...</td>\n",
              "      <td>...</td>\n",
              "    </tr>\n",
              "    <tr>\n",
              "      <th>30969</th>\n",
              "      <td>Kia</td>\n",
              "      <td>Soul Electric</td>\n",
              "      <td>Electricity</td>\n",
              "      <td>0.0</td>\n",
              "      <td>0.0</td>\n",
              "    </tr>\n",
              "    <tr>\n",
              "      <th>30972</th>\n",
              "      <td>Tesla</td>\n",
              "      <td>Model S (60 kW-hr battery pack)</td>\n",
              "      <td>Electricity</td>\n",
              "      <td>0.0</td>\n",
              "      <td>0.0</td>\n",
              "    </tr>\n",
              "    <tr>\n",
              "      <th>30973</th>\n",
              "      <td>Tesla</td>\n",
              "      <td>Model S AWD - 60D</td>\n",
              "      <td>Electricity</td>\n",
              "      <td>0.0</td>\n",
              "      <td>0.0</td>\n",
              "    </tr>\n",
              "    <tr>\n",
              "      <th>30974</th>\n",
              "      <td>Tesla</td>\n",
              "      <td>Model S AWD - P100D</td>\n",
              "      <td>Electricity</td>\n",
              "      <td>0.0</td>\n",
              "      <td>0.0</td>\n",
              "    </tr>\n",
              "    <tr>\n",
              "      <th>30975</th>\n",
              "      <td>Tesla</td>\n",
              "      <td>Model X AWD - 60D</td>\n",
              "      <td>Electricity</td>\n",
              "      <td>0.0</td>\n",
              "      <td>0.0</td>\n",
              "    </tr>\n",
              "  </tbody>\n",
              "</table>\n",
              "<p>123 rows × 5 columns</p>\n",
              "</div>\n",
              "      <button class=\"colab-df-convert\" onclick=\"convertToInteractive('df-28e13db3-e3ee-44ba-971e-6234f017a382')\"\n",
              "              title=\"Convert this dataframe to an interactive table.\"\n",
              "              style=\"display:none;\">\n",
              "        \n",
              "  <svg xmlns=\"http://www.w3.org/2000/svg\" height=\"24px\"viewBox=\"0 0 24 24\"\n",
              "       width=\"24px\">\n",
              "    <path d=\"M0 0h24v24H0V0z\" fill=\"none\"/>\n",
              "    <path d=\"M18.56 5.44l.94 2.06.94-2.06 2.06-.94-2.06-.94-.94-2.06-.94 2.06-2.06.94zm-11 1L8.5 8.5l.94-2.06 2.06-.94-2.06-.94L8.5 2.5l-.94 2.06-2.06.94zm10 10l.94 2.06.94-2.06 2.06-.94-2.06-.94-.94-2.06-.94 2.06-2.06.94z\"/><path d=\"M17.41 7.96l-1.37-1.37c-.4-.4-.92-.59-1.43-.59-.52 0-1.04.2-1.43.59L10.3 9.45l-7.72 7.72c-.78.78-.78 2.05 0 2.83L4 21.41c.39.39.9.59 1.41.59.51 0 1.02-.2 1.41-.59l7.78-7.78 2.81-2.81c.8-.78.8-2.07 0-2.86zM5.41 20L4 18.59l7.72-7.72 1.47 1.35L5.41 20z\"/>\n",
              "  </svg>\n",
              "      </button>\n",
              "      \n",
              "  <style>\n",
              "    .colab-df-container {\n",
              "      display:flex;\n",
              "      flex-wrap:wrap;\n",
              "      gap: 12px;\n",
              "    }\n",
              "\n",
              "    .colab-df-convert {\n",
              "      background-color: #E8F0FE;\n",
              "      border: none;\n",
              "      border-radius: 50%;\n",
              "      cursor: pointer;\n",
              "      display: none;\n",
              "      fill: #1967D2;\n",
              "      height: 32px;\n",
              "      padding: 0 0 0 0;\n",
              "      width: 32px;\n",
              "    }\n",
              "\n",
              "    .colab-df-convert:hover {\n",
              "      background-color: #E2EBFA;\n",
              "      box-shadow: 0px 1px 2px rgba(60, 64, 67, 0.3), 0px 1px 3px 1px rgba(60, 64, 67, 0.15);\n",
              "      fill: #174EA6;\n",
              "    }\n",
              "\n",
              "    [theme=dark] .colab-df-convert {\n",
              "      background-color: #3B4455;\n",
              "      fill: #D2E3FC;\n",
              "    }\n",
              "\n",
              "    [theme=dark] .colab-df-convert:hover {\n",
              "      background-color: #434B5C;\n",
              "      box-shadow: 0px 1px 3px 1px rgba(0, 0, 0, 0.15);\n",
              "      filter: drop-shadow(0px 1px 2px rgba(0, 0, 0, 0.3));\n",
              "      fill: #FFFFFF;\n",
              "    }\n",
              "  </style>\n",
              "\n",
              "      <script>\n",
              "        const buttonEl =\n",
              "          document.querySelector('#df-28e13db3-e3ee-44ba-971e-6234f017a382 button.colab-df-convert');\n",
              "        buttonEl.style.display =\n",
              "          google.colab.kernel.accessAllowed ? 'block' : 'none';\n",
              "\n",
              "        async function convertToInteractive(key) {\n",
              "          const element = document.querySelector('#df-28e13db3-e3ee-44ba-971e-6234f017a382');\n",
              "          const dataTable =\n",
              "            await google.colab.kernel.invokeFunction('convertToInteractive',\n",
              "                                                     [key], {});\n",
              "          if (!dataTable) return;\n",
              "\n",
              "          const docLinkHtml = 'Like what you see? Visit the ' +\n",
              "            '<a target=\"_blank\" href=https://colab.research.google.com/notebooks/data_table.ipynb>data table notebook</a>'\n",
              "            + ' to learn more about interactive tables.';\n",
              "          element.innerHTML = '';\n",
              "          dataTable['output_type'] = 'display_data';\n",
              "          await google.colab.output.renderOutput(dataTable, element);\n",
              "          const docLink = document.createElement('div');\n",
              "          docLink.innerHTML = docLinkHtml;\n",
              "          element.appendChild(docLink);\n",
              "        }\n",
              "      </script>\n",
              "    </div>\n",
              "  </div>\n",
              "  "
            ]
          },
          "metadata": {},
          "execution_count": 45
        }
      ]
    },
    {
      "cell_type": "markdown",
      "metadata": {
        "id": "2SN4G3HHW2n1"
      },
      "source": [
        "## Bonus: \n",
        "Now that we have filled in those null values, there are only two columns in the data set that still have null values: trany and drive. Use what you have learned in this section to investigate and potentially fill in the remaining null values."
      ]
    },
    {
      "cell_type": "code",
      "execution_count": 46,
      "metadata": {
        "colab": {
          "base_uri": "https://localhost:8080/"
        },
        "id": "4zf8ZLjxW2n1",
        "outputId": "d3512697-94c5-43ac-e32c-ea77a4845124"
      },
      "outputs": [
        {
          "output_type": "execute_result",
          "data": {
            "text/plain": [
              "drive    1189\n",
              "trany      11\n",
              "dtype: int64"
            ]
          },
          "metadata": {},
          "execution_count": 46
        }
      ],
      "source": [
        "data.isnull().sum()[data.isnull().sum() > 0]"
      ]
    },
    {
      "cell_type": "code",
      "execution_count": 47,
      "metadata": {
        "colab": {
          "base_uri": "https://localhost:8080/"
        },
        "id": "PACOncikYY5Q",
        "outputId": "5fbf72b4-7713-4227-de1c-35a155a20b7b"
      },
      "outputs": [
        {
          "output_type": "execute_result",
          "data": {
            "text/plain": [
              "Int64Index([ 7138,  8144,  8147, 18217, 18218, 18219, 18220, 18221, 18222,\n",
              "            18223,\n",
              "            ...\n",
              "            20063, 20064, 20065, 20387, 21129, 23029, 23030, 23032, 23037,\n",
              "            23040],\n",
              "           dtype='int64', length=1189)"
            ]
          },
          "metadata": {},
          "execution_count": 47
        }
      ],
      "source": [
        "nul_index2 = data.displ[data.drive.isnull()].index\n",
        "nul_index2"
      ]
    },
    {
      "cell_type": "code",
      "execution_count": 48,
      "metadata": {
        "colab": {
          "base_uri": "https://localhost:8080/",
          "height": 424
        },
        "id": "JMPGy3AqYaig",
        "outputId": "4928d34f-600f-4f3c-e9ad-0ee77cd97074"
      },
      "outputs": [
        {
          "output_type": "execute_result",
          "data": {
            "text/plain": [
              "             make               model     fuelType drive\n",
              "7138       Nissan            Altra EV  Electricity   NaN\n",
              "8144         Ford               Th!nk  Electricity   NaN\n",
              "8147       Nissan          Hyper-Mini  Electricity   NaN\n",
              "18217  Alfa Romeo  Spider Veloce 2000      Regular   NaN\n",
              "18218     Bertone                X1/9      Regular   NaN\n",
              "...           ...                 ...          ...   ...\n",
              "23029         GMC                 EV1  Electricity   NaN\n",
              "23030         GMC                 EV1  Electricity   NaN\n",
              "23032       Honda             EV Plus  Electricity   NaN\n",
              "23037       Honda             EV Plus  Electricity   NaN\n",
              "23040        MINI               MiniE  Electricity   NaN\n",
              "\n",
              "[1189 rows x 4 columns]"
            ],
            "text/html": [
              "\n",
              "  <div id=\"df-795331e1-e53e-4354-9212-5ed7161f4e34\">\n",
              "    <div class=\"colab-df-container\">\n",
              "      <div>\n",
              "<style scoped>\n",
              "    .dataframe tbody tr th:only-of-type {\n",
              "        vertical-align: middle;\n",
              "    }\n",
              "\n",
              "    .dataframe tbody tr th {\n",
              "        vertical-align: top;\n",
              "    }\n",
              "\n",
              "    .dataframe thead th {\n",
              "        text-align: right;\n",
              "    }\n",
              "</style>\n",
              "<table border=\"1\" class=\"dataframe\">\n",
              "  <thead>\n",
              "    <tr style=\"text-align: right;\">\n",
              "      <th></th>\n",
              "      <th>make</th>\n",
              "      <th>model</th>\n",
              "      <th>fuelType</th>\n",
              "      <th>drive</th>\n",
              "    </tr>\n",
              "  </thead>\n",
              "  <tbody>\n",
              "    <tr>\n",
              "      <th>7138</th>\n",
              "      <td>Nissan</td>\n",
              "      <td>Altra EV</td>\n",
              "      <td>Electricity</td>\n",
              "      <td>NaN</td>\n",
              "    </tr>\n",
              "    <tr>\n",
              "      <th>8144</th>\n",
              "      <td>Ford</td>\n",
              "      <td>Th!nk</td>\n",
              "      <td>Electricity</td>\n",
              "      <td>NaN</td>\n",
              "    </tr>\n",
              "    <tr>\n",
              "      <th>8147</th>\n",
              "      <td>Nissan</td>\n",
              "      <td>Hyper-Mini</td>\n",
              "      <td>Electricity</td>\n",
              "      <td>NaN</td>\n",
              "    </tr>\n",
              "    <tr>\n",
              "      <th>18217</th>\n",
              "      <td>Alfa Romeo</td>\n",
              "      <td>Spider Veloce 2000</td>\n",
              "      <td>Regular</td>\n",
              "      <td>NaN</td>\n",
              "    </tr>\n",
              "    <tr>\n",
              "      <th>18218</th>\n",
              "      <td>Bertone</td>\n",
              "      <td>X1/9</td>\n",
              "      <td>Regular</td>\n",
              "      <td>NaN</td>\n",
              "    </tr>\n",
              "    <tr>\n",
              "      <th>...</th>\n",
              "      <td>...</td>\n",
              "      <td>...</td>\n",
              "      <td>...</td>\n",
              "      <td>...</td>\n",
              "    </tr>\n",
              "    <tr>\n",
              "      <th>23029</th>\n",
              "      <td>GMC</td>\n",
              "      <td>EV1</td>\n",
              "      <td>Electricity</td>\n",
              "      <td>NaN</td>\n",
              "    </tr>\n",
              "    <tr>\n",
              "      <th>23030</th>\n",
              "      <td>GMC</td>\n",
              "      <td>EV1</td>\n",
              "      <td>Electricity</td>\n",
              "      <td>NaN</td>\n",
              "    </tr>\n",
              "    <tr>\n",
              "      <th>23032</th>\n",
              "      <td>Honda</td>\n",
              "      <td>EV Plus</td>\n",
              "      <td>Electricity</td>\n",
              "      <td>NaN</td>\n",
              "    </tr>\n",
              "    <tr>\n",
              "      <th>23037</th>\n",
              "      <td>Honda</td>\n",
              "      <td>EV Plus</td>\n",
              "      <td>Electricity</td>\n",
              "      <td>NaN</td>\n",
              "    </tr>\n",
              "    <tr>\n",
              "      <th>23040</th>\n",
              "      <td>MINI</td>\n",
              "      <td>MiniE</td>\n",
              "      <td>Electricity</td>\n",
              "      <td>NaN</td>\n",
              "    </tr>\n",
              "  </tbody>\n",
              "</table>\n",
              "<p>1189 rows × 4 columns</p>\n",
              "</div>\n",
              "      <button class=\"colab-df-convert\" onclick=\"convertToInteractive('df-795331e1-e53e-4354-9212-5ed7161f4e34')\"\n",
              "              title=\"Convert this dataframe to an interactive table.\"\n",
              "              style=\"display:none;\">\n",
              "        \n",
              "  <svg xmlns=\"http://www.w3.org/2000/svg\" height=\"24px\"viewBox=\"0 0 24 24\"\n",
              "       width=\"24px\">\n",
              "    <path d=\"M0 0h24v24H0V0z\" fill=\"none\"/>\n",
              "    <path d=\"M18.56 5.44l.94 2.06.94-2.06 2.06-.94-2.06-.94-.94-2.06-.94 2.06-2.06.94zm-11 1L8.5 8.5l.94-2.06 2.06-.94-2.06-.94L8.5 2.5l-.94 2.06-2.06.94zm10 10l.94 2.06.94-2.06 2.06-.94-2.06-.94-.94-2.06-.94 2.06-2.06.94z\"/><path d=\"M17.41 7.96l-1.37-1.37c-.4-.4-.92-.59-1.43-.59-.52 0-1.04.2-1.43.59L10.3 9.45l-7.72 7.72c-.78.78-.78 2.05 0 2.83L4 21.41c.39.39.9.59 1.41.59.51 0 1.02-.2 1.41-.59l7.78-7.78 2.81-2.81c.8-.78.8-2.07 0-2.86zM5.41 20L4 18.59l7.72-7.72 1.47 1.35L5.41 20z\"/>\n",
              "  </svg>\n",
              "      </button>\n",
              "      \n",
              "  <style>\n",
              "    .colab-df-container {\n",
              "      display:flex;\n",
              "      flex-wrap:wrap;\n",
              "      gap: 12px;\n",
              "    }\n",
              "\n",
              "    .colab-df-convert {\n",
              "      background-color: #E8F0FE;\n",
              "      border: none;\n",
              "      border-radius: 50%;\n",
              "      cursor: pointer;\n",
              "      display: none;\n",
              "      fill: #1967D2;\n",
              "      height: 32px;\n",
              "      padding: 0 0 0 0;\n",
              "      width: 32px;\n",
              "    }\n",
              "\n",
              "    .colab-df-convert:hover {\n",
              "      background-color: #E2EBFA;\n",
              "      box-shadow: 0px 1px 2px rgba(60, 64, 67, 0.3), 0px 1px 3px 1px rgba(60, 64, 67, 0.15);\n",
              "      fill: #174EA6;\n",
              "    }\n",
              "\n",
              "    [theme=dark] .colab-df-convert {\n",
              "      background-color: #3B4455;\n",
              "      fill: #D2E3FC;\n",
              "    }\n",
              "\n",
              "    [theme=dark] .colab-df-convert:hover {\n",
              "      background-color: #434B5C;\n",
              "      box-shadow: 0px 1px 3px 1px rgba(0, 0, 0, 0.15);\n",
              "      filter: drop-shadow(0px 1px 2px rgba(0, 0, 0, 0.3));\n",
              "      fill: #FFFFFF;\n",
              "    }\n",
              "  </style>\n",
              "\n",
              "      <script>\n",
              "        const buttonEl =\n",
              "          document.querySelector('#df-795331e1-e53e-4354-9212-5ed7161f4e34 button.colab-df-convert');\n",
              "        buttonEl.style.display =\n",
              "          google.colab.kernel.accessAllowed ? 'block' : 'none';\n",
              "\n",
              "        async function convertToInteractive(key) {\n",
              "          const element = document.querySelector('#df-795331e1-e53e-4354-9212-5ed7161f4e34');\n",
              "          const dataTable =\n",
              "            await google.colab.kernel.invokeFunction('convertToInteractive',\n",
              "                                                     [key], {});\n",
              "          if (!dataTable) return;\n",
              "\n",
              "          const docLinkHtml = 'Like what you see? Visit the ' +\n",
              "            '<a target=\"_blank\" href=https://colab.research.google.com/notebooks/data_table.ipynb>data table notebook</a>'\n",
              "            + ' to learn more about interactive tables.';\n",
              "          element.innerHTML = '';\n",
              "          dataTable['output_type'] = 'display_data';\n",
              "          await google.colab.output.renderOutput(dataTable, element);\n",
              "          const docLink = document.createElement('div');\n",
              "          docLink.innerHTML = docLinkHtml;\n",
              "          element.appendChild(docLink);\n",
              "        }\n",
              "      </script>\n",
              "    </div>\n",
              "  </div>\n",
              "  "
            ]
          },
          "metadata": {},
          "execution_count": 48
        }
      ],
      "source": [
        "data.iloc[nul_index2][['make', 'model', 'fuelType' ,'drive']]"
      ]
    },
    {
      "cell_type": "code",
      "execution_count": 49,
      "metadata": {
        "colab": {
          "base_uri": "https://localhost:8080/"
        },
        "id": "d6LLv8mGYe8A",
        "outputId": "61dd45a3-1a17-4833-c4f5-8a9c9c000be4"
      },
      "outputs": [
        {
          "output_type": "execute_result",
          "data": {
            "text/plain": [
              "trany    11\n",
              "dtype: int64"
            ]
          },
          "metadata": {},
          "execution_count": 49
        }
      ],
      "source": [
        "data.drive.fillna('unknown', inplace = True)\n",
        "data.isnull().sum()[data.isnull().sum() > 0]"
      ]
    },
    {
      "cell_type": "code",
      "execution_count": 17,
      "metadata": {
        "colab": {
          "base_uri": "https://localhost:8080/",
          "height": 424
        },
        "id": "vY0WJEy_YiNv",
        "outputId": "415de4ed-c251-4568-8aad-f74225471f9b"
      },
      "outputs": [
        {
          "output_type": "execute_result",
          "data": {
            "text/plain": [
              "             make               model     fuelType           trany\n",
              "7138       Nissan            Altra EV  Electricity             NaN\n",
              "8144         Ford               Th!nk  Electricity             NaN\n",
              "8147       Nissan          Hyper-Mini  Electricity             NaN\n",
              "18217  Alfa Romeo  Spider Veloce 2000      Regular    Manual 5-spd\n",
              "18218     Bertone                X1/9      Regular    Manual 5-spd\n",
              "...           ...                 ...          ...             ...\n",
              "23029         GMC                 EV1  Electricity  Automatic (A1)\n",
              "23030         GMC                 EV1  Electricity  Automatic (A1)\n",
              "23032       Honda             EV Plus  Electricity  Automatic (A1)\n",
              "23037       Honda             EV Plus  Electricity  Automatic (A1)\n",
              "23040        MINI               MiniE  Electricity  Automatic (A1)\n",
              "\n",
              "[1189 rows x 4 columns]"
            ],
            "text/html": [
              "\n",
              "  <div id=\"df-fb5a2235-6832-4657-a3d6-b798c5c3129b\">\n",
              "    <div class=\"colab-df-container\">\n",
              "      <div>\n",
              "<style scoped>\n",
              "    .dataframe tbody tr th:only-of-type {\n",
              "        vertical-align: middle;\n",
              "    }\n",
              "\n",
              "    .dataframe tbody tr th {\n",
              "        vertical-align: top;\n",
              "    }\n",
              "\n",
              "    .dataframe thead th {\n",
              "        text-align: right;\n",
              "    }\n",
              "</style>\n",
              "<table border=\"1\" class=\"dataframe\">\n",
              "  <thead>\n",
              "    <tr style=\"text-align: right;\">\n",
              "      <th></th>\n",
              "      <th>make</th>\n",
              "      <th>model</th>\n",
              "      <th>fuelType</th>\n",
              "      <th>trany</th>\n",
              "    </tr>\n",
              "  </thead>\n",
              "  <tbody>\n",
              "    <tr>\n",
              "      <th>7138</th>\n",
              "      <td>Nissan</td>\n",
              "      <td>Altra EV</td>\n",
              "      <td>Electricity</td>\n",
              "      <td>NaN</td>\n",
              "    </tr>\n",
              "    <tr>\n",
              "      <th>8144</th>\n",
              "      <td>Ford</td>\n",
              "      <td>Th!nk</td>\n",
              "      <td>Electricity</td>\n",
              "      <td>NaN</td>\n",
              "    </tr>\n",
              "    <tr>\n",
              "      <th>8147</th>\n",
              "      <td>Nissan</td>\n",
              "      <td>Hyper-Mini</td>\n",
              "      <td>Electricity</td>\n",
              "      <td>NaN</td>\n",
              "    </tr>\n",
              "    <tr>\n",
              "      <th>18217</th>\n",
              "      <td>Alfa Romeo</td>\n",
              "      <td>Spider Veloce 2000</td>\n",
              "      <td>Regular</td>\n",
              "      <td>Manual 5-spd</td>\n",
              "    </tr>\n",
              "    <tr>\n",
              "      <th>18218</th>\n",
              "      <td>Bertone</td>\n",
              "      <td>X1/9</td>\n",
              "      <td>Regular</td>\n",
              "      <td>Manual 5-spd</td>\n",
              "    </tr>\n",
              "    <tr>\n",
              "      <th>...</th>\n",
              "      <td>...</td>\n",
              "      <td>...</td>\n",
              "      <td>...</td>\n",
              "      <td>...</td>\n",
              "    </tr>\n",
              "    <tr>\n",
              "      <th>23029</th>\n",
              "      <td>GMC</td>\n",
              "      <td>EV1</td>\n",
              "      <td>Electricity</td>\n",
              "      <td>Automatic (A1)</td>\n",
              "    </tr>\n",
              "    <tr>\n",
              "      <th>23030</th>\n",
              "      <td>GMC</td>\n",
              "      <td>EV1</td>\n",
              "      <td>Electricity</td>\n",
              "      <td>Automatic (A1)</td>\n",
              "    </tr>\n",
              "    <tr>\n",
              "      <th>23032</th>\n",
              "      <td>Honda</td>\n",
              "      <td>EV Plus</td>\n",
              "      <td>Electricity</td>\n",
              "      <td>Automatic (A1)</td>\n",
              "    </tr>\n",
              "    <tr>\n",
              "      <th>23037</th>\n",
              "      <td>Honda</td>\n",
              "      <td>EV Plus</td>\n",
              "      <td>Electricity</td>\n",
              "      <td>Automatic (A1)</td>\n",
              "    </tr>\n",
              "    <tr>\n",
              "      <th>23040</th>\n",
              "      <td>MINI</td>\n",
              "      <td>MiniE</td>\n",
              "      <td>Electricity</td>\n",
              "      <td>Automatic (A1)</td>\n",
              "    </tr>\n",
              "  </tbody>\n",
              "</table>\n",
              "<p>1189 rows × 4 columns</p>\n",
              "</div>\n",
              "      <button class=\"colab-df-convert\" onclick=\"convertToInteractive('df-fb5a2235-6832-4657-a3d6-b798c5c3129b')\"\n",
              "              title=\"Convert this dataframe to an interactive table.\"\n",
              "              style=\"display:none;\">\n",
              "        \n",
              "  <svg xmlns=\"http://www.w3.org/2000/svg\" height=\"24px\"viewBox=\"0 0 24 24\"\n",
              "       width=\"24px\">\n",
              "    <path d=\"M0 0h24v24H0V0z\" fill=\"none\"/>\n",
              "    <path d=\"M18.56 5.44l.94 2.06.94-2.06 2.06-.94-2.06-.94-.94-2.06-.94 2.06-2.06.94zm-11 1L8.5 8.5l.94-2.06 2.06-.94-2.06-.94L8.5 2.5l-.94 2.06-2.06.94zm10 10l.94 2.06.94-2.06 2.06-.94-2.06-.94-.94-2.06-.94 2.06-2.06.94z\"/><path d=\"M17.41 7.96l-1.37-1.37c-.4-.4-.92-.59-1.43-.59-.52 0-1.04.2-1.43.59L10.3 9.45l-7.72 7.72c-.78.78-.78 2.05 0 2.83L4 21.41c.39.39.9.59 1.41.59.51 0 1.02-.2 1.41-.59l7.78-7.78 2.81-2.81c.8-.78.8-2.07 0-2.86zM5.41 20L4 18.59l7.72-7.72 1.47 1.35L5.41 20z\"/>\n",
              "  </svg>\n",
              "      </button>\n",
              "      \n",
              "  <style>\n",
              "    .colab-df-container {\n",
              "      display:flex;\n",
              "      flex-wrap:wrap;\n",
              "      gap: 12px;\n",
              "    }\n",
              "\n",
              "    .colab-df-convert {\n",
              "      background-color: #E8F0FE;\n",
              "      border: none;\n",
              "      border-radius: 50%;\n",
              "      cursor: pointer;\n",
              "      display: none;\n",
              "      fill: #1967D2;\n",
              "      height: 32px;\n",
              "      padding: 0 0 0 0;\n",
              "      width: 32px;\n",
              "    }\n",
              "\n",
              "    .colab-df-convert:hover {\n",
              "      background-color: #E2EBFA;\n",
              "      box-shadow: 0px 1px 2px rgba(60, 64, 67, 0.3), 0px 1px 3px 1px rgba(60, 64, 67, 0.15);\n",
              "      fill: #174EA6;\n",
              "    }\n",
              "\n",
              "    [theme=dark] .colab-df-convert {\n",
              "      background-color: #3B4455;\n",
              "      fill: #D2E3FC;\n",
              "    }\n",
              "\n",
              "    [theme=dark] .colab-df-convert:hover {\n",
              "      background-color: #434B5C;\n",
              "      box-shadow: 0px 1px 3px 1px rgba(0, 0, 0, 0.15);\n",
              "      filter: drop-shadow(0px 1px 2px rgba(0, 0, 0, 0.3));\n",
              "      fill: #FFFFFF;\n",
              "    }\n",
              "  </style>\n",
              "\n",
              "      <script>\n",
              "        const buttonEl =\n",
              "          document.querySelector('#df-fb5a2235-6832-4657-a3d6-b798c5c3129b button.colab-df-convert');\n",
              "        buttonEl.style.display =\n",
              "          google.colab.kernel.accessAllowed ? 'block' : 'none';\n",
              "\n",
              "        async function convertToInteractive(key) {\n",
              "          const element = document.querySelector('#df-fb5a2235-6832-4657-a3d6-b798c5c3129b');\n",
              "          const dataTable =\n",
              "            await google.colab.kernel.invokeFunction('convertToInteractive',\n",
              "                                                     [key], {});\n",
              "          if (!dataTable) return;\n",
              "\n",
              "          const docLinkHtml = 'Like what you see? Visit the ' +\n",
              "            '<a target=\"_blank\" href=https://colab.research.google.com/notebooks/data_table.ipynb>data table notebook</a>'\n",
              "            + ' to learn more about interactive tables.';\n",
              "          element.innerHTML = '';\n",
              "          dataTable['output_type'] = 'display_data';\n",
              "          await google.colab.output.renderOutput(dataTable, element);\n",
              "          const docLink = document.createElement('div');\n",
              "          docLink.innerHTML = docLinkHtml;\n",
              "          element.appendChild(docLink);\n",
              "        }\n",
              "      </script>\n",
              "    </div>\n",
              "  </div>\n",
              "  "
            ]
          },
          "metadata": {},
          "execution_count": 17
        }
      ],
      "source": [
        "data.iloc[nul_index2][['make', 'model', 'fuelType' ,'trany']]"
      ]
    },
    {
      "cell_type": "code",
      "execution_count": 50,
      "metadata": {
        "colab": {
          "base_uri": "https://localhost:8080/"
        },
        "id": "2PbU1ihlYkmb",
        "outputId": "93f33e46-e2b0-4daf-e038-50de505859c9"
      },
      "outputs": [
        {
          "output_type": "execute_result",
          "data": {
            "text/plain": [
              "Series([], dtype: int64)"
            ]
          },
          "metadata": {},
          "execution_count": 50
        }
      ],
      "source": [
        "data.trany.fillna('unknown', inplace = True)\n",
        "data.isnull().sum()[data.isnull().sum() > 0] #Ya no hay mas valores nulos"
      ]
    },
    {
      "cell_type": "markdown",
      "metadata": {
        "id": "tax9B85rW2n1"
      },
      "source": [
        "# Incorrect Values\n",
        "\n",
        "In addition to null values, we also want to try to identify any values that seem incorrect. For example, in the previous section, we learned that a vehicle without cylinders should not have displacement and vice versa. Let's check to see if there are any cases that violate these rules."
      ]
    },
    {
      "cell_type": "code",
      "execution_count": 85,
      "metadata": {
        "id": "olTGMJ_sW2n2",
        "colab": {
          "base_uri": "https://localhost:8080/"
        },
        "outputId": "6240e061-7320-4594-8e3e-3c831ec024f9"
      },
      "outputs": [
        {
          "output_type": "stream",
          "name": "stdout",
          "text": [
            "0.0\n",
            "21506\n",
            "1.3\n"
          ]
        }
      ],
      "source": [
        "#your code\n",
        "for i in range(len(data)):\n",
        "  if (data['cylinders'][i] != data['displ'][i]) & (data['cylinders'][i] == 0):\n",
        "    print(data['cylinders'][i])\n",
        "    print(i)\n",
        "    print(data['displ'][i])\n",
        "  if (data['cylinders'][i] != data['displ'][i]) & (data['displ'][i] == 0):\n",
        "    print(data['displ'][i])\n",
        "    print(data['cylinders'][i])"
      ]
    },
    {
      "cell_type": "markdown",
      "metadata": {
        "id": "VRnZ5JsuW2n2"
      },
      "source": [
        "Is there any row that seems to have strange values?"
      ]
    },
    {
      "cell_type": "code",
      "execution_count": null,
      "metadata": {
        "id": "5L-tJwDiW2n2"
      },
      "outputs": [],
      "source": [
        "#Como se puede ver en el codigo anterior, en la fila 21506 hay un valor incorrecto para el displacement, debido a que tendría que ser 0 ya que cylinders es 0"
      ]
    },
    {
      "cell_type": "markdown",
      "metadata": {
        "id": "ppteeTcsW2n2"
      },
      "source": [
        "Here we have identified a vehicle with a regular gasoline engine that reportedly does not have any cylinders but does have a value for displacement. "
      ]
    },
    {
      "cell_type": "markdown",
      "metadata": {
        "id": "ULMm9H1fW2n3"
      },
      "source": [
        "The way we would correct this would be to either perform some domain research or ask a domain expert to find out how many actual cylinders this vehicle had. Alternatively, you can also try to look at similar vehicles in the data set and determine the most likely value for this field."
      ]
    },
    {
      "cell_type": "markdown",
      "metadata": {
        "id": "TKOsCNMFW2n3"
      },
      "source": [
        "## Check similar rows"
      ]
    },
    {
      "cell_type": "code",
      "execution_count": 103,
      "metadata": {
        "id": "JfuMz1XRW2n3",
        "colab": {
          "base_uri": "https://localhost:8080/"
        },
        "outputId": "6bb52400-5daa-459b-f14a-c0d8de1d64f9"
      },
      "outputs": [
        {
          "output_type": "stream",
          "name": "stdout",
          "text": [
            "1.3 4.0 588\n",
            "1.3 4.0 660\n",
            "1.3 2.0 714\n",
            "1.3 2.0 715\n",
            "1.3 4.0 811\n",
            "1.3 4.0 812\n",
            "1.3 4.0 926\n",
            "1.3 4.0 927\n",
            "1.3 4.0 928\n",
            "1.3 4.0 1737\n",
            "1.3 2.0 1785\n",
            "1.3 2.0 1786\n",
            "1.3 4.0 1872\n",
            "1.3 4.0 1873\n",
            "1.3 4.0 1885\n",
            "1.3 4.0 1886\n",
            "1.3 4.0 2580\n",
            "1.3 4.0 2778\n",
            "1.3 4.0 2882\n",
            "1.3 4.0 2883\n",
            "1.3 4.0 2896\n",
            "1.3 4.0 2897\n",
            "1.3 4.0 2959\n",
            "1.3 4.0 2960\n",
            "1.3 4.0 3708\n",
            "1.3 4.0 3709\n",
            "1.3 4.0 3721\n",
            "1.3 4.0 3722\n",
            "1.3 4.0 3786\n",
            "1.3 4.0 3787\n",
            "1.3 4.0 4000\n",
            "1.3 4.0 4518\n",
            "1.3 4.0 4519\n",
            "1.3 4.0 4609\n",
            "1.3 4.0 4610\n",
            "1.3 4.0 5398\n",
            "1.3 4.0 5399\n",
            "1.3 4.0 5476\n",
            "1.3 4.0 5477\n",
            "1.3 4.0 6290\n",
            "1.3 4.0 6291\n",
            "1.3 4.0 6360\n",
            "1.3 4.0 6361\n",
            "1.3 4.0 7227\n",
            "1.3 4.0 7283\n",
            "1.3 4.0 7284\n",
            "1.3 2.0 8145\n",
            "1.3 4.0 9211\n",
            "1.3 4.0 9473\n",
            "1.3 4.0 9474\n",
            "1.3 4.0 10336\n",
            "1.3 4.0 10337\n",
            "1.3 2.0 10539\n",
            "1.3 2.0 10540\n",
            "1.3 4.0 10653\n",
            "1.3 4.0 10654\n",
            "1.3 4.0 10656\n",
            "1.3 4.0 10657\n",
            "1.3 2.0 11803\n",
            "1.3 2.0 11804\n",
            "1.3 4.0 11904\n",
            "1.3 4.0 11905\n",
            "1.3 4.0 11906\n",
            "1.3 4.0 11907\n",
            "1.3 2.0 13055\n",
            "1.3 2.0 13056\n",
            "1.3 4.0 14045\n",
            "1.3 2.0 14318\n",
            "1.3 2.0 14455\n",
            "1.3 2.0 14456\n",
            "1.3 4.0 14885\n",
            "1.3 2.0 15670\n",
            "1.3 2.0 15671\n",
            "1.3 4.0 16301\n",
            "1.3 2.0 16738\n",
            "1.3 2.0 16739\n",
            "1.3 4.0 17510\n",
            "1.3 4.0 18003\n",
            "1.3 4.0 18004\n",
            "1.3 4.0 18229\n",
            "1.3 2.0 18238\n",
            "1.3 4.0 18254\n",
            "1.3 4.0 18255\n",
            "1.3 4.0 18353\n",
            "1.3 4.0 19473\n",
            "1.3 2.0 19480\n",
            "1.3 4.0 19497\n",
            "1.3 4.0 19586\n",
            "1.3 2.0 20432\n",
            "1.3 2.0 20433\n",
            "1.3 4.0 20602\n",
            "1.3 4.0 20613\n",
            "1.3 4.0 20772\n",
            "1.3 2.0 21108\n",
            "1.3 2.0 21118\n",
            "1.3 2.0 21126\n",
            "1.3 0.0 21506\n",
            "1.3 4.0 21674\n",
            "1.3 4.0 22321\n",
            "1.3 2.0 22637\n",
            "1.3 2.0 22638\n",
            "1.3 4.0 22651\n",
            "1.3 4.0 22891\n",
            "1.3 4.0 22892\n",
            "1.3 4.0 23778\n",
            "1.3 4.0 24230\n",
            "1.3 4.0 24231\n",
            "1.3 4.0 25146\n",
            "1.3 4.0 25451\n",
            "1.3 4.0 25452\n",
            "1.3 4.0 25982\n",
            "1.3 4.0 26747\n",
            "1.3 4.0 26748\n",
            "1.3 4.0 27192\n",
            "1.3 4.0 28069\n",
            "1.3 4.0 31288\n",
            "1.3 4.0 31291\n",
            "1.3 2.0 31339\n",
            "1.3 2.0 31340\n",
            "1.3 2.0 31341\n",
            "1.3 4.0 31454\n",
            "1.3 4.0 31455\n",
            "1.3 4.0 31577\n",
            "1.3 4.0 32533\n",
            "1.3 4.0 32535\n",
            "1.3 2.0 32595\n",
            "1.3 2.0 32596\n",
            "1.3 2.0 32597\n",
            "1.3 4.0 32674\n",
            "1.3 4.0 32675\n",
            "1.3 4.0 32676\n",
            "1.3 4.0 32705\n",
            "1.3 4.0 32706\n",
            "1.3 4.0 32707\n",
            "1.3 4.0 32814\n",
            "1.3 4.0 32815\n",
            "1.3 4.0 32816\n",
            "1.3 4.0 32817\n",
            "1.3 4.0 32818\n",
            "1.3 4.0 32842\n",
            "1.3 4.0 33808\n",
            "1.3 4.0 33809\n",
            "1.3 4.0 33810\n",
            "1.3 2.0 33868\n",
            "1.3 2.0 33869\n",
            "1.3 2.0 33870\n",
            "1.3 4.0 33927\n",
            "1.3 4.0 33928\n",
            "1.3 4.0 33963\n",
            "1.3 4.0 33964\n",
            "1.3 4.0 34076\n",
            "1.3 4.0 34077\n",
            "1.3 4.0 34079\n",
            "1.3 4.0 34080\n",
            "1.3 4.0 34106\n",
            "1.3 4.0 34985\n",
            "1.3 4.0 34986\n",
            "1.3 2.0 35051\n",
            "1.3 2.0 35052\n",
            "1.3 2.0 35053\n",
            "1.3 4.0 35135\n",
            "1.3 4.0 35136\n",
            "1.3 4.0 35175\n",
            "1.3 4.0 35176\n",
            "1.3 4.0 35306\n",
            "1.3 4.0 35307\n",
            "1.3 4.0 35308\n",
            "1.3 4.0 36137\n",
            "1.3 4.0 36213\n",
            "1.3 4.0 36214\n",
            "1.3 2.0 36268\n",
            "1.3 2.0 36269\n",
            "1.3 4.0 36346\n",
            "1.3 4.0 36347\n",
            "1.3 4.0 36393\n",
            "1.3 4.0 36394\n",
            "1.3 4.0 36517\n",
            "1.3 4.0 36518\n",
            "1.3 4.0 36519\n",
            "1.3 4.0 37329\n",
            "1.3 4.0 37405\n",
            "1.3 2.0 37464\n",
            "1.3 2.0 37465\n",
            "1.3 4.0 37568\n",
            "1.3 4.0 37569\n",
            "1.3 4.0 37692\n",
            "1.3 4.0 37693\n",
            "1.3 4.0 37694\n"
          ]
        }
      ],
      "source": [
        "for i in range(len(data)):\n",
        "  if data['displ'][i] == 1.3:\n",
        "    print(data['displ'][i], data['cylinders'][i], i)\n",
        "    \n",
        "  \n",
        "#vemos que los coches que tienen displacement 1.3 tienen una cilindrada de 2.0 o de 4.0, pero muchas mas de 4\n",
        "#por tanto, tenemos que sustituir el valor de la cilindrad en la columna 21506 por 4\n",
        "\n"
      ]
    },
    {
      "cell_type": "markdown",
      "metadata": {
        "id": "Te4LAxUkW2n3"
      },
      "source": [
        "Suppose that using one of the aforementioned methods, we found out that this vehicle actually has a 4 cylinder engine. Update that specific value in the data frame. "
      ]
    },
    {
      "cell_type": "code",
      "execution_count": 105,
      "metadata": {
        "id": "zvYasEQAW2n3",
        "colab": {
          "base_uri": "https://localhost:8080/"
        },
        "outputId": "f9a72c73-c679-42f6-b321-24f47a069185"
      },
      "outputs": [
        {
          "output_type": "stream",
          "name": "stdout",
          "text": [
            "4.0\n"
          ]
        },
        {
          "output_type": "stream",
          "name": "stderr",
          "text": [
            "/usr/local/lib/python3.7/dist-packages/ipykernel_launcher.py:2: SettingWithCopyWarning: \n",
            "A value is trying to be set on a copy of a slice from a DataFrame\n",
            "\n",
            "See the caveats in the documentation: https://pandas.pydata.org/pandas-docs/stable/user_guide/indexing.html#returning-a-view-versus-a-copy\n",
            "  \n"
          ]
        }
      ],
      "source": [
        "#your code\n",
        "data['cylinders'][21506] = 4.0\n",
        "print(data['cylinders'][21506])"
      ]
    },
    {
      "cell_type": "markdown",
      "metadata": {
        "id": "I6GheoJgW2n4"
      },
      "source": [
        "## Bonus: \n",
        " Try to find other values that might be incorrect in the data set based on what you know about automobiles and correct them."
      ]
    },
    {
      "cell_type": "code",
      "execution_count": null,
      "metadata": {
        "id": "QPprfvwwW2n4"
      },
      "outputs": [],
      "source": [
        "#Como carzco de conocimientos en coches, no puedo afirmar ni negar si los datos de la tabla son correctos."
      ]
    },
    {
      "cell_type": "markdown",
      "metadata": {
        "id": "3DdEgOeAW2n4"
      },
      "source": [
        "# Low Variance Columns\n",
        "\n",
        "When analyzing data, we want the fields we are working with to be informative, and we will want to strip away any columns that don't have a lot of value to us. One easy way to do this is to identify columns that have low variance, where the majority of the values in the column are the same. Since there is not a lot of variability in these columns, they have the potential to not be as informative as columns that have a variety of different values in them.\n",
        "\n",
        "Let's try to identify columns where at least 90% of the values are the same so that we can remove them from our data set. To do this, we are going to create an empty list called low_variance that will eventually contain the names of columns that fit our criteria.\n",
        "\n",
        "We will then write a for loop that will take the minimum and the 90th percentile value for all the numeric columns in our data set (identified via the _get_numeric_data method). If the 90th percentile and the minimum are equal to each other, that means that at least 90% of the values in that column are the same and we will append that column name to our low_variance list. "
      ]
    },
    {
      "cell_type": "code",
      "execution_count": 117,
      "metadata": {
        "id": "_p9qEifBW2n5",
        "colab": {
          "base_uri": "https://localhost:8080/"
        },
        "outputId": "bcec6f4b-4666-4e0f-884c-9b5ca7ddf5d4"
      },
      "outputs": [
        {
          "output_type": "stream",
          "name": "stdout",
          "text": [
            "['barrels08', 'barrelsA08', 'charge120', 'charge240', 'cityA08', 'cityA08U', 'cityCD', 'cityE', 'cityUF', 'combA08', 'combA08U', 'combE', 'combinedCD', 'combinedUF', 'cylinders', 'displ', 'feScore', 'ghgScore', 'ghgScoreA', 'highwayA08', 'highwayA08U', 'highwayCD', 'highwayE', 'highwayUF', 'hlv', 'lv2', 'rangeCityA', 'rangeHwyA', 'UCityA', 'UHighwayA', 'charge240b', 'phevCity', 'phevHwy', 'phevComb']\n"
          ]
        },
        {
          "output_type": "execute_result",
          "data": {
            "text/plain": [
              "34"
            ]
          },
          "metadata": {},
          "execution_count": 117
        }
      ],
      "source": [
        "#your code\n",
        "low_variance = []\n",
        "for i in data.select_dtypes(include = np.number):\n",
        "  if data[i].std() <= 6.5:\n",
        "    low_variance.append(i)\n",
        "\n",
        "print(low_variance)\n",
        "len(low_variance)\n",
        "\n"
      ]
    },
    {
      "cell_type": "markdown",
      "metadata": {
        "id": "YWJeBwxsW2n5"
      },
      "source": [
        "This returned 34 columns that we could potentially eliminate due to not having high enough variability to be informative. Of course, before we do this, we should check the values that do exist in these fields to confirm that they are not very informative. Once they have been checked, we can use the the drop method like we did earlier in this lesson to remove those columns from our data frame.\n",
        "\n"
      ]
    },
    {
      "cell_type": "markdown",
      "metadata": {
        "id": "vK2GDTrIW2n5"
      },
      "source": [
        "## Use the the drop method like we did earlier in this lesson to remove the non informative columns from our data frame."
      ]
    },
    {
      "cell_type": "code",
      "execution_count": 118,
      "metadata": {
        "id": "gEAIrGhmW2n6"
      },
      "outputs": [],
      "source": [
        "#your code\n",
        "data.drop(columns = low_variance, inplace = True, axis = 1)"
      ]
    },
    {
      "cell_type": "code",
      "source": [
        "data.shape"
      ],
      "metadata": {
        "colab": {
          "base_uri": "https://localhost:8080/"
        },
        "id": "cx72RS93MDG7",
        "outputId": "f5d1351f-8289-46b3-e7f5-e0582a31994a"
      },
      "execution_count": 121,
      "outputs": [
        {
          "output_type": "execute_result",
          "data": {
            "text/plain": [
              "(37843, 36)"
            ]
          },
          "metadata": {},
          "execution_count": 121
        }
      ]
    },
    {
      "cell_type": "markdown",
      "metadata": {
        "id": "G-SJPhOkW2n6"
      },
      "source": [
        "# Extreme Values and Outliers\n",
        "\n",
        "Now that we have removed low variance columns, we should look for outliers, or extreme values, in the columns that remain. These outliers can influence our aggregations when we are analyzing data later, so we want to make sure we address them during our data cleaning stage.\n",
        "\n",
        "A common method for identifying outliers is one that leverages the interquartile range (IQR). Once the IQR is calculated, it is multiplied by a constant (typically 1.5) and lower and upper bounds are established at:\n",
        "\n",
        "    25th Percentile - (IQR x 1.5)\n",
        "    75th Percentile + (IQR x 1.5)\n",
        "\n",
        "Any values outside this range are potential outliers and should be investigated.\n",
        "\n",
        "Let's look at how we would do this for our data set using Python. We will use the Pandas describe function to easily calculate the 25th and 75th percentiles for every column and transpose the results so that we can easily reference the values in calculating the interquartile ranges.\n",
        "\n"
      ]
    },
    {
      "cell_type": "code",
      "execution_count": 122,
      "metadata": {
        "id": "lacEpTApW2n6",
        "colab": {
          "base_uri": "https://localhost:8080/",
          "height": 833
        },
        "outputId": "d420951d-a727-4f7d-a78b-37badb4dd9b4"
      },
      "outputs": [
        {
          "output_type": "execute_result",
          "data": {
            "text/plain": [
              "                   count          mean           std      min     25%  \\\n",
              "city08           37843.0     17.941389      6.660360      6.0    15.0   \n",
              "city08U          37843.0      4.042737      9.645820      0.0     0.0   \n",
              "co2              37843.0     61.503713    153.387715     -1.0    -1.0   \n",
              "co2A             37843.0      5.349919     55.539497     -1.0    -1.0   \n",
              "co2TailpipeAGpm  37843.0     17.771433     94.129283      0.0     0.0   \n",
              "co2TailpipeGpm   37843.0    473.179736    122.188847      0.0   388.0   \n",
              "comb08           37843.0     20.195809      6.623444      7.0    17.0   \n",
              "comb08U          37843.0      4.549751     10.389994      0.0     0.0   \n",
              "engId            37843.0   8860.308961  17829.683477      0.0     0.0   \n",
              "fuelCost08       37843.0   1882.060090    510.280408    550.0  1500.0   \n",
              "fuelCostA08      37843.0     79.070105    417.668580      0.0     0.0   \n",
              "highway08        37843.0     24.104881      6.963192      9.0    20.0   \n",
              "highway08U       37843.0      5.438467     11.936327      0.0     0.0   \n",
              "hpv              37843.0     10.424332     28.148770      0.0     0.0   \n",
              "id               37843.0  19019.286235  11034.784855      1.0  9461.5   \n",
              "lv4              37843.0      6.165658      9.743297      0.0     0.0   \n",
              "pv2              37843.0     13.696113     31.269930      0.0     0.0   \n",
              "pv4              37843.0     33.769125     45.914462      0.0     0.0   \n",
              "range            37843.0      0.392675      8.251191      0.0     0.0   \n",
              "rangeCity        37843.0      0.352618      8.049082      0.0     0.0   \n",
              "rangeHwy         37843.0      0.343399      8.171939      0.0     0.0   \n",
              "UCity            37843.0     22.587229      9.350163      0.0    18.0   \n",
              "UHighway         37843.0     33.619221     10.048326      0.0    27.1   \n",
              "year             37843.0   2000.064398     10.390588   1984.0  1990.0   \n",
              "youSaveSpend     37843.0  -2658.999022   2553.098329 -22250.0 -4250.0   \n",
              "\n",
              "                          50%         75%           max         IQR  \n",
              "city08              17.000000     20.0000    138.000000      5.0000  \n",
              "city08U              0.000000      0.0000    138.304000      0.0000  \n",
              "co2                 -1.000000     -1.0000    847.000000      0.0000  \n",
              "co2A                -1.000000     -1.0000    719.000000      0.0000  \n",
              "co2TailpipeAGpm      0.000000      0.0000    719.000000      0.0000  \n",
              "co2TailpipeGpm     467.736842    555.4375   1269.571429    167.4375  \n",
              "comb08              19.000000     23.0000    124.000000      6.0000  \n",
              "comb08U              0.000000      0.0000    124.360100      0.0000  \n",
              "engId              211.000000   4505.0000  69102.000000   4505.0000  \n",
              "fuelCost08        1850.000000   2200.0000   5800.000000    700.0000  \n",
              "fuelCostA08          0.000000      0.0000   3800.000000      0.0000  \n",
              "highway08           24.000000     27.0000    111.000000      7.0000  \n",
              "highway08U           0.000000      0.0000    111.370000      0.0000  \n",
              "hpv                  0.000000      0.0000    195.000000      0.0000  \n",
              "id               18923.000000  28570.5000  38173.000000  19109.0000  \n",
              "lv4                  0.000000     13.0000     55.000000     13.0000  \n",
              "pv2                  0.000000      0.0000    194.000000      0.0000  \n",
              "pv4                  0.000000     91.0000    192.000000     91.0000  \n",
              "range                0.000000      0.0000    315.000000      0.0000  \n",
              "rangeCity            0.000000      0.0000    305.900000      0.0000  \n",
              "rangeHwy             0.000000      0.0000    346.900000      0.0000  \n",
              "UCity               21.000000     25.1393    197.577100      7.1393  \n",
              "UHighway            33.000000     38.1096    159.100000     11.0096  \n",
              "year              2001.000000   2009.0000   2017.000000     19.0000  \n",
              "youSaveSpend     -2500.000000   -750.0000   4000.000000   3500.0000  "
            ],
            "text/html": [
              "\n",
              "  <div id=\"df-908b1cf4-5281-42fe-9a2a-871da4c2c648\">\n",
              "    <div class=\"colab-df-container\">\n",
              "      <div>\n",
              "<style scoped>\n",
              "    .dataframe tbody tr th:only-of-type {\n",
              "        vertical-align: middle;\n",
              "    }\n",
              "\n",
              "    .dataframe tbody tr th {\n",
              "        vertical-align: top;\n",
              "    }\n",
              "\n",
              "    .dataframe thead th {\n",
              "        text-align: right;\n",
              "    }\n",
              "</style>\n",
              "<table border=\"1\" class=\"dataframe\">\n",
              "  <thead>\n",
              "    <tr style=\"text-align: right;\">\n",
              "      <th></th>\n",
              "      <th>count</th>\n",
              "      <th>mean</th>\n",
              "      <th>std</th>\n",
              "      <th>min</th>\n",
              "      <th>25%</th>\n",
              "      <th>50%</th>\n",
              "      <th>75%</th>\n",
              "      <th>max</th>\n",
              "      <th>IQR</th>\n",
              "    </tr>\n",
              "  </thead>\n",
              "  <tbody>\n",
              "    <tr>\n",
              "      <th>city08</th>\n",
              "      <td>37843.0</td>\n",
              "      <td>17.941389</td>\n",
              "      <td>6.660360</td>\n",
              "      <td>6.0</td>\n",
              "      <td>15.0</td>\n",
              "      <td>17.000000</td>\n",
              "      <td>20.0000</td>\n",
              "      <td>138.000000</td>\n",
              "      <td>5.0000</td>\n",
              "    </tr>\n",
              "    <tr>\n",
              "      <th>city08U</th>\n",
              "      <td>37843.0</td>\n",
              "      <td>4.042737</td>\n",
              "      <td>9.645820</td>\n",
              "      <td>0.0</td>\n",
              "      <td>0.0</td>\n",
              "      <td>0.000000</td>\n",
              "      <td>0.0000</td>\n",
              "      <td>138.304000</td>\n",
              "      <td>0.0000</td>\n",
              "    </tr>\n",
              "    <tr>\n",
              "      <th>co2</th>\n",
              "      <td>37843.0</td>\n",
              "      <td>61.503713</td>\n",
              "      <td>153.387715</td>\n",
              "      <td>-1.0</td>\n",
              "      <td>-1.0</td>\n",
              "      <td>-1.000000</td>\n",
              "      <td>-1.0000</td>\n",
              "      <td>847.000000</td>\n",
              "      <td>0.0000</td>\n",
              "    </tr>\n",
              "    <tr>\n",
              "      <th>co2A</th>\n",
              "      <td>37843.0</td>\n",
              "      <td>5.349919</td>\n",
              "      <td>55.539497</td>\n",
              "      <td>-1.0</td>\n",
              "      <td>-1.0</td>\n",
              "      <td>-1.000000</td>\n",
              "      <td>-1.0000</td>\n",
              "      <td>719.000000</td>\n",
              "      <td>0.0000</td>\n",
              "    </tr>\n",
              "    <tr>\n",
              "      <th>co2TailpipeAGpm</th>\n",
              "      <td>37843.0</td>\n",
              "      <td>17.771433</td>\n",
              "      <td>94.129283</td>\n",
              "      <td>0.0</td>\n",
              "      <td>0.0</td>\n",
              "      <td>0.000000</td>\n",
              "      <td>0.0000</td>\n",
              "      <td>719.000000</td>\n",
              "      <td>0.0000</td>\n",
              "    </tr>\n",
              "    <tr>\n",
              "      <th>co2TailpipeGpm</th>\n",
              "      <td>37843.0</td>\n",
              "      <td>473.179736</td>\n",
              "      <td>122.188847</td>\n",
              "      <td>0.0</td>\n",
              "      <td>388.0</td>\n",
              "      <td>467.736842</td>\n",
              "      <td>555.4375</td>\n",
              "      <td>1269.571429</td>\n",
              "      <td>167.4375</td>\n",
              "    </tr>\n",
              "    <tr>\n",
              "      <th>comb08</th>\n",
              "      <td>37843.0</td>\n",
              "      <td>20.195809</td>\n",
              "      <td>6.623444</td>\n",
              "      <td>7.0</td>\n",
              "      <td>17.0</td>\n",
              "      <td>19.000000</td>\n",
              "      <td>23.0000</td>\n",
              "      <td>124.000000</td>\n",
              "      <td>6.0000</td>\n",
              "    </tr>\n",
              "    <tr>\n",
              "      <th>comb08U</th>\n",
              "      <td>37843.0</td>\n",
              "      <td>4.549751</td>\n",
              "      <td>10.389994</td>\n",
              "      <td>0.0</td>\n",
              "      <td>0.0</td>\n",
              "      <td>0.000000</td>\n",
              "      <td>0.0000</td>\n",
              "      <td>124.360100</td>\n",
              "      <td>0.0000</td>\n",
              "    </tr>\n",
              "    <tr>\n",
              "      <th>engId</th>\n",
              "      <td>37843.0</td>\n",
              "      <td>8860.308961</td>\n",
              "      <td>17829.683477</td>\n",
              "      <td>0.0</td>\n",
              "      <td>0.0</td>\n",
              "      <td>211.000000</td>\n",
              "      <td>4505.0000</td>\n",
              "      <td>69102.000000</td>\n",
              "      <td>4505.0000</td>\n",
              "    </tr>\n",
              "    <tr>\n",
              "      <th>fuelCost08</th>\n",
              "      <td>37843.0</td>\n",
              "      <td>1882.060090</td>\n",
              "      <td>510.280408</td>\n",
              "      <td>550.0</td>\n",
              "      <td>1500.0</td>\n",
              "      <td>1850.000000</td>\n",
              "      <td>2200.0000</td>\n",
              "      <td>5800.000000</td>\n",
              "      <td>700.0000</td>\n",
              "    </tr>\n",
              "    <tr>\n",
              "      <th>fuelCostA08</th>\n",
              "      <td>37843.0</td>\n",
              "      <td>79.070105</td>\n",
              "      <td>417.668580</td>\n",
              "      <td>0.0</td>\n",
              "      <td>0.0</td>\n",
              "      <td>0.000000</td>\n",
              "      <td>0.0000</td>\n",
              "      <td>3800.000000</td>\n",
              "      <td>0.0000</td>\n",
              "    </tr>\n",
              "    <tr>\n",
              "      <th>highway08</th>\n",
              "      <td>37843.0</td>\n",
              "      <td>24.104881</td>\n",
              "      <td>6.963192</td>\n",
              "      <td>9.0</td>\n",
              "      <td>20.0</td>\n",
              "      <td>24.000000</td>\n",
              "      <td>27.0000</td>\n",
              "      <td>111.000000</td>\n",
              "      <td>7.0000</td>\n",
              "    </tr>\n",
              "    <tr>\n",
              "      <th>highway08U</th>\n",
              "      <td>37843.0</td>\n",
              "      <td>5.438467</td>\n",
              "      <td>11.936327</td>\n",
              "      <td>0.0</td>\n",
              "      <td>0.0</td>\n",
              "      <td>0.000000</td>\n",
              "      <td>0.0000</td>\n",
              "      <td>111.370000</td>\n",
              "      <td>0.0000</td>\n",
              "    </tr>\n",
              "    <tr>\n",
              "      <th>hpv</th>\n",
              "      <td>37843.0</td>\n",
              "      <td>10.424332</td>\n",
              "      <td>28.148770</td>\n",
              "      <td>0.0</td>\n",
              "      <td>0.0</td>\n",
              "      <td>0.000000</td>\n",
              "      <td>0.0000</td>\n",
              "      <td>195.000000</td>\n",
              "      <td>0.0000</td>\n",
              "    </tr>\n",
              "    <tr>\n",
              "      <th>id</th>\n",
              "      <td>37843.0</td>\n",
              "      <td>19019.286235</td>\n",
              "      <td>11034.784855</td>\n",
              "      <td>1.0</td>\n",
              "      <td>9461.5</td>\n",
              "      <td>18923.000000</td>\n",
              "      <td>28570.5000</td>\n",
              "      <td>38173.000000</td>\n",
              "      <td>19109.0000</td>\n",
              "    </tr>\n",
              "    <tr>\n",
              "      <th>lv4</th>\n",
              "      <td>37843.0</td>\n",
              "      <td>6.165658</td>\n",
              "      <td>9.743297</td>\n",
              "      <td>0.0</td>\n",
              "      <td>0.0</td>\n",
              "      <td>0.000000</td>\n",
              "      <td>13.0000</td>\n",
              "      <td>55.000000</td>\n",
              "      <td>13.0000</td>\n",
              "    </tr>\n",
              "    <tr>\n",
              "      <th>pv2</th>\n",
              "      <td>37843.0</td>\n",
              "      <td>13.696113</td>\n",
              "      <td>31.269930</td>\n",
              "      <td>0.0</td>\n",
              "      <td>0.0</td>\n",
              "      <td>0.000000</td>\n",
              "      <td>0.0000</td>\n",
              "      <td>194.000000</td>\n",
              "      <td>0.0000</td>\n",
              "    </tr>\n",
              "    <tr>\n",
              "      <th>pv4</th>\n",
              "      <td>37843.0</td>\n",
              "      <td>33.769125</td>\n",
              "      <td>45.914462</td>\n",
              "      <td>0.0</td>\n",
              "      <td>0.0</td>\n",
              "      <td>0.000000</td>\n",
              "      <td>91.0000</td>\n",
              "      <td>192.000000</td>\n",
              "      <td>91.0000</td>\n",
              "    </tr>\n",
              "    <tr>\n",
              "      <th>range</th>\n",
              "      <td>37843.0</td>\n",
              "      <td>0.392675</td>\n",
              "      <td>8.251191</td>\n",
              "      <td>0.0</td>\n",
              "      <td>0.0</td>\n",
              "      <td>0.000000</td>\n",
              "      <td>0.0000</td>\n",
              "      <td>315.000000</td>\n",
              "      <td>0.0000</td>\n",
              "    </tr>\n",
              "    <tr>\n",
              "      <th>rangeCity</th>\n",
              "      <td>37843.0</td>\n",
              "      <td>0.352618</td>\n",
              "      <td>8.049082</td>\n",
              "      <td>0.0</td>\n",
              "      <td>0.0</td>\n",
              "      <td>0.000000</td>\n",
              "      <td>0.0000</td>\n",
              "      <td>305.900000</td>\n",
              "      <td>0.0000</td>\n",
              "    </tr>\n",
              "    <tr>\n",
              "      <th>rangeHwy</th>\n",
              "      <td>37843.0</td>\n",
              "      <td>0.343399</td>\n",
              "      <td>8.171939</td>\n",
              "      <td>0.0</td>\n",
              "      <td>0.0</td>\n",
              "      <td>0.000000</td>\n",
              "      <td>0.0000</td>\n",
              "      <td>346.900000</td>\n",
              "      <td>0.0000</td>\n",
              "    </tr>\n",
              "    <tr>\n",
              "      <th>UCity</th>\n",
              "      <td>37843.0</td>\n",
              "      <td>22.587229</td>\n",
              "      <td>9.350163</td>\n",
              "      <td>0.0</td>\n",
              "      <td>18.0</td>\n",
              "      <td>21.000000</td>\n",
              "      <td>25.1393</td>\n",
              "      <td>197.577100</td>\n",
              "      <td>7.1393</td>\n",
              "    </tr>\n",
              "    <tr>\n",
              "      <th>UHighway</th>\n",
              "      <td>37843.0</td>\n",
              "      <td>33.619221</td>\n",
              "      <td>10.048326</td>\n",
              "      <td>0.0</td>\n",
              "      <td>27.1</td>\n",
              "      <td>33.000000</td>\n",
              "      <td>38.1096</td>\n",
              "      <td>159.100000</td>\n",
              "      <td>11.0096</td>\n",
              "    </tr>\n",
              "    <tr>\n",
              "      <th>year</th>\n",
              "      <td>37843.0</td>\n",
              "      <td>2000.064398</td>\n",
              "      <td>10.390588</td>\n",
              "      <td>1984.0</td>\n",
              "      <td>1990.0</td>\n",
              "      <td>2001.000000</td>\n",
              "      <td>2009.0000</td>\n",
              "      <td>2017.000000</td>\n",
              "      <td>19.0000</td>\n",
              "    </tr>\n",
              "    <tr>\n",
              "      <th>youSaveSpend</th>\n",
              "      <td>37843.0</td>\n",
              "      <td>-2658.999022</td>\n",
              "      <td>2553.098329</td>\n",
              "      <td>-22250.0</td>\n",
              "      <td>-4250.0</td>\n",
              "      <td>-2500.000000</td>\n",
              "      <td>-750.0000</td>\n",
              "      <td>4000.000000</td>\n",
              "      <td>3500.0000</td>\n",
              "    </tr>\n",
              "  </tbody>\n",
              "</table>\n",
              "</div>\n",
              "      <button class=\"colab-df-convert\" onclick=\"convertToInteractive('df-908b1cf4-5281-42fe-9a2a-871da4c2c648')\"\n",
              "              title=\"Convert this dataframe to an interactive table.\"\n",
              "              style=\"display:none;\">\n",
              "        \n",
              "  <svg xmlns=\"http://www.w3.org/2000/svg\" height=\"24px\"viewBox=\"0 0 24 24\"\n",
              "       width=\"24px\">\n",
              "    <path d=\"M0 0h24v24H0V0z\" fill=\"none\"/>\n",
              "    <path d=\"M18.56 5.44l.94 2.06.94-2.06 2.06-.94-2.06-.94-.94-2.06-.94 2.06-2.06.94zm-11 1L8.5 8.5l.94-2.06 2.06-.94-2.06-.94L8.5 2.5l-.94 2.06-2.06.94zm10 10l.94 2.06.94-2.06 2.06-.94-2.06-.94-.94-2.06-.94 2.06-2.06.94z\"/><path d=\"M17.41 7.96l-1.37-1.37c-.4-.4-.92-.59-1.43-.59-.52 0-1.04.2-1.43.59L10.3 9.45l-7.72 7.72c-.78.78-.78 2.05 0 2.83L4 21.41c.39.39.9.59 1.41.59.51 0 1.02-.2 1.41-.59l7.78-7.78 2.81-2.81c.8-.78.8-2.07 0-2.86zM5.41 20L4 18.59l7.72-7.72 1.47 1.35L5.41 20z\"/>\n",
              "  </svg>\n",
              "      </button>\n",
              "      \n",
              "  <style>\n",
              "    .colab-df-container {\n",
              "      display:flex;\n",
              "      flex-wrap:wrap;\n",
              "      gap: 12px;\n",
              "    }\n",
              "\n",
              "    .colab-df-convert {\n",
              "      background-color: #E8F0FE;\n",
              "      border: none;\n",
              "      border-radius: 50%;\n",
              "      cursor: pointer;\n",
              "      display: none;\n",
              "      fill: #1967D2;\n",
              "      height: 32px;\n",
              "      padding: 0 0 0 0;\n",
              "      width: 32px;\n",
              "    }\n",
              "\n",
              "    .colab-df-convert:hover {\n",
              "      background-color: #E2EBFA;\n",
              "      box-shadow: 0px 1px 2px rgba(60, 64, 67, 0.3), 0px 1px 3px 1px rgba(60, 64, 67, 0.15);\n",
              "      fill: #174EA6;\n",
              "    }\n",
              "\n",
              "    [theme=dark] .colab-df-convert {\n",
              "      background-color: #3B4455;\n",
              "      fill: #D2E3FC;\n",
              "    }\n",
              "\n",
              "    [theme=dark] .colab-df-convert:hover {\n",
              "      background-color: #434B5C;\n",
              "      box-shadow: 0px 1px 3px 1px rgba(0, 0, 0, 0.15);\n",
              "      filter: drop-shadow(0px 1px 2px rgba(0, 0, 0, 0.3));\n",
              "      fill: #FFFFFF;\n",
              "    }\n",
              "  </style>\n",
              "\n",
              "      <script>\n",
              "        const buttonEl =\n",
              "          document.querySelector('#df-908b1cf4-5281-42fe-9a2a-871da4c2c648 button.colab-df-convert');\n",
              "        buttonEl.style.display =\n",
              "          google.colab.kernel.accessAllowed ? 'block' : 'none';\n",
              "\n",
              "        async function convertToInteractive(key) {\n",
              "          const element = document.querySelector('#df-908b1cf4-5281-42fe-9a2a-871da4c2c648');\n",
              "          const dataTable =\n",
              "            await google.colab.kernel.invokeFunction('convertToInteractive',\n",
              "                                                     [key], {});\n",
              "          if (!dataTable) return;\n",
              "\n",
              "          const docLinkHtml = 'Like what you see? Visit the ' +\n",
              "            '<a target=\"_blank\" href=https://colab.research.google.com/notebooks/data_table.ipynb>data table notebook</a>'\n",
              "            + ' to learn more about interactive tables.';\n",
              "          element.innerHTML = '';\n",
              "          dataTable['output_type'] = 'display_data';\n",
              "          await google.colab.output.renderOutput(dataTable, element);\n",
              "          const docLink = document.createElement('div');\n",
              "          docLink.innerHTML = docLinkHtml;\n",
              "          element.appendChild(docLink);\n",
              "        }\n",
              "      </script>\n",
              "    </div>\n",
              "  </div>\n",
              "  "
            ]
          },
          "metadata": {},
          "execution_count": 122
        }
      ],
      "source": [
        "#Run this code\n",
        "stats = data.describe().transpose()\n",
        "stats['IQR'] = stats['75%'] - stats['25%']\n",
        "stats"
      ]
    },
    {
      "cell_type": "markdown",
      "metadata": {
        "id": "FqkpW8oHW2n6"
      },
      "source": [
        "We will then create an empty data frame called outliers with the same columns as our data set. Finally, we will loop through each column in the data calculating the lower and upper bounds, retrieving records where the value for that column falls outside the bounds we established, and appending those results to our outlier data frame."
      ]
    },
    {
      "cell_type": "code",
      "execution_count": 123,
      "metadata": {
        "id": "THZP--jhW2n7",
        "colab": {
          "base_uri": "https://localhost:8080/",
          "height": 473
        },
        "outputId": "194e035f-b0c1-4d38-c506-f8de6b6ad764"
      },
      "outputs": [
        {
          "output_type": "execute_result",
          "data": {
            "text/plain": [
              "    city08  city08U co2 co2A  co2TailpipeAGpm  co2TailpipeGpm comb08  comb08U  \\\n",
              "446     31      0.0  -1   -1              0.0      261.382353     34      0.0   \n",
              "705     30      0.0  -1   -1              0.0      269.303030     33      0.0   \n",
              "724     30      0.0  -1   -1              0.0      328.387097     31      0.0   \n",
              "775     31      0.0  -1   -1              0.0      269.303030     33      0.0   \n",
              "776     38      0.0  -1   -1              0.0      216.756098     41      0.0   \n",
              "\n",
              "                 drive  engId  ... rangeHwy            trany    UCity  \\\n",
              "446  Front-Wheel Drive  49010  ...      0.0     Manual 4-spd  41.0000   \n",
              "705  Front-Wheel Drive  26007  ...      0.0     Manual 5-spd  39.0000   \n",
              "724  Front-Wheel Drive  24680  ...      0.0     Manual 5-spd  38.8889   \n",
              "775  Front-Wheel Drive  54003  ...      0.0  Automatic 3-spd  40.0000   \n",
              "776  Front-Wheel Drive  54003  ...      0.0     Manual 5-spd  51.0000   \n",
              "\n",
              "    UHighway                    VClass  year youSaveSpend  \\\n",
              "446     53.0           Subcompact Cars  1985         1750   \n",
              "705     53.0               Two Seaters  1994         1750   \n",
              "724     45.0  Special Purpose Vehicles  1985         1000   \n",
              "775     51.0           Subcompact Cars  1994         1750   \n",
              "776     64.0           Subcompact Cars  1994         2750   \n",
              "\n",
              "                        createdOn                    modifiedOn Outlier  \n",
              "446  Tue Jan 01 00:00:00 EST 2013  Tue Jan 01 00:00:00 EST 2013  city08  \n",
              "705  Tue Jan 01 00:00:00 EST 2013  Tue Jan 01 00:00:00 EST 2013  city08  \n",
              "724  Tue Jan 01 00:00:00 EST 2013  Tue Jan 01 00:00:00 EST 2013  city08  \n",
              "775  Tue Jan 01 00:00:00 EST 2013  Tue Jan 01 00:00:00 EST 2013  city08  \n",
              "776  Tue Jan 01 00:00:00 EST 2013  Tue Jan 01 00:00:00 EST 2013  city08  \n",
              "\n",
              "[5 rows x 37 columns]"
            ],
            "text/html": [
              "\n",
              "  <div id=\"df-5d8faf72-8f3b-4a8b-a979-1f990cda2ac0\">\n",
              "    <div class=\"colab-df-container\">\n",
              "      <div>\n",
              "<style scoped>\n",
              "    .dataframe tbody tr th:only-of-type {\n",
              "        vertical-align: middle;\n",
              "    }\n",
              "\n",
              "    .dataframe tbody tr th {\n",
              "        vertical-align: top;\n",
              "    }\n",
              "\n",
              "    .dataframe thead th {\n",
              "        text-align: right;\n",
              "    }\n",
              "</style>\n",
              "<table border=\"1\" class=\"dataframe\">\n",
              "  <thead>\n",
              "    <tr style=\"text-align: right;\">\n",
              "      <th></th>\n",
              "      <th>city08</th>\n",
              "      <th>city08U</th>\n",
              "      <th>co2</th>\n",
              "      <th>co2A</th>\n",
              "      <th>co2TailpipeAGpm</th>\n",
              "      <th>co2TailpipeGpm</th>\n",
              "      <th>comb08</th>\n",
              "      <th>comb08U</th>\n",
              "      <th>drive</th>\n",
              "      <th>engId</th>\n",
              "      <th>...</th>\n",
              "      <th>rangeHwy</th>\n",
              "      <th>trany</th>\n",
              "      <th>UCity</th>\n",
              "      <th>UHighway</th>\n",
              "      <th>VClass</th>\n",
              "      <th>year</th>\n",
              "      <th>youSaveSpend</th>\n",
              "      <th>createdOn</th>\n",
              "      <th>modifiedOn</th>\n",
              "      <th>Outlier</th>\n",
              "    </tr>\n",
              "  </thead>\n",
              "  <tbody>\n",
              "    <tr>\n",
              "      <th>446</th>\n",
              "      <td>31</td>\n",
              "      <td>0.0</td>\n",
              "      <td>-1</td>\n",
              "      <td>-1</td>\n",
              "      <td>0.0</td>\n",
              "      <td>261.382353</td>\n",
              "      <td>34</td>\n",
              "      <td>0.0</td>\n",
              "      <td>Front-Wheel Drive</td>\n",
              "      <td>49010</td>\n",
              "      <td>...</td>\n",
              "      <td>0.0</td>\n",
              "      <td>Manual 4-spd</td>\n",
              "      <td>41.0000</td>\n",
              "      <td>53.0</td>\n",
              "      <td>Subcompact Cars</td>\n",
              "      <td>1985</td>\n",
              "      <td>1750</td>\n",
              "      <td>Tue Jan 01 00:00:00 EST 2013</td>\n",
              "      <td>Tue Jan 01 00:00:00 EST 2013</td>\n",
              "      <td>city08</td>\n",
              "    </tr>\n",
              "    <tr>\n",
              "      <th>705</th>\n",
              "      <td>30</td>\n",
              "      <td>0.0</td>\n",
              "      <td>-1</td>\n",
              "      <td>-1</td>\n",
              "      <td>0.0</td>\n",
              "      <td>269.303030</td>\n",
              "      <td>33</td>\n",
              "      <td>0.0</td>\n",
              "      <td>Front-Wheel Drive</td>\n",
              "      <td>26007</td>\n",
              "      <td>...</td>\n",
              "      <td>0.0</td>\n",
              "      <td>Manual 5-spd</td>\n",
              "      <td>39.0000</td>\n",
              "      <td>53.0</td>\n",
              "      <td>Two Seaters</td>\n",
              "      <td>1994</td>\n",
              "      <td>1750</td>\n",
              "      <td>Tue Jan 01 00:00:00 EST 2013</td>\n",
              "      <td>Tue Jan 01 00:00:00 EST 2013</td>\n",
              "      <td>city08</td>\n",
              "    </tr>\n",
              "    <tr>\n",
              "      <th>724</th>\n",
              "      <td>30</td>\n",
              "      <td>0.0</td>\n",
              "      <td>-1</td>\n",
              "      <td>-1</td>\n",
              "      <td>0.0</td>\n",
              "      <td>328.387097</td>\n",
              "      <td>31</td>\n",
              "      <td>0.0</td>\n",
              "      <td>Front-Wheel Drive</td>\n",
              "      <td>24680</td>\n",
              "      <td>...</td>\n",
              "      <td>0.0</td>\n",
              "      <td>Manual 5-spd</td>\n",
              "      <td>38.8889</td>\n",
              "      <td>45.0</td>\n",
              "      <td>Special Purpose Vehicles</td>\n",
              "      <td>1985</td>\n",
              "      <td>1000</td>\n",
              "      <td>Tue Jan 01 00:00:00 EST 2013</td>\n",
              "      <td>Tue Jan 01 00:00:00 EST 2013</td>\n",
              "      <td>city08</td>\n",
              "    </tr>\n",
              "    <tr>\n",
              "      <th>775</th>\n",
              "      <td>31</td>\n",
              "      <td>0.0</td>\n",
              "      <td>-1</td>\n",
              "      <td>-1</td>\n",
              "      <td>0.0</td>\n",
              "      <td>269.303030</td>\n",
              "      <td>33</td>\n",
              "      <td>0.0</td>\n",
              "      <td>Front-Wheel Drive</td>\n",
              "      <td>54003</td>\n",
              "      <td>...</td>\n",
              "      <td>0.0</td>\n",
              "      <td>Automatic 3-spd</td>\n",
              "      <td>40.0000</td>\n",
              "      <td>51.0</td>\n",
              "      <td>Subcompact Cars</td>\n",
              "      <td>1994</td>\n",
              "      <td>1750</td>\n",
              "      <td>Tue Jan 01 00:00:00 EST 2013</td>\n",
              "      <td>Tue Jan 01 00:00:00 EST 2013</td>\n",
              "      <td>city08</td>\n",
              "    </tr>\n",
              "    <tr>\n",
              "      <th>776</th>\n",
              "      <td>38</td>\n",
              "      <td>0.0</td>\n",
              "      <td>-1</td>\n",
              "      <td>-1</td>\n",
              "      <td>0.0</td>\n",
              "      <td>216.756098</td>\n",
              "      <td>41</td>\n",
              "      <td>0.0</td>\n",
              "      <td>Front-Wheel Drive</td>\n",
              "      <td>54003</td>\n",
              "      <td>...</td>\n",
              "      <td>0.0</td>\n",
              "      <td>Manual 5-spd</td>\n",
              "      <td>51.0000</td>\n",
              "      <td>64.0</td>\n",
              "      <td>Subcompact Cars</td>\n",
              "      <td>1994</td>\n",
              "      <td>2750</td>\n",
              "      <td>Tue Jan 01 00:00:00 EST 2013</td>\n",
              "      <td>Tue Jan 01 00:00:00 EST 2013</td>\n",
              "      <td>city08</td>\n",
              "    </tr>\n",
              "  </tbody>\n",
              "</table>\n",
              "<p>5 rows × 37 columns</p>\n",
              "</div>\n",
              "      <button class=\"colab-df-convert\" onclick=\"convertToInteractive('df-5d8faf72-8f3b-4a8b-a979-1f990cda2ac0')\"\n",
              "              title=\"Convert this dataframe to an interactive table.\"\n",
              "              style=\"display:none;\">\n",
              "        \n",
              "  <svg xmlns=\"http://www.w3.org/2000/svg\" height=\"24px\"viewBox=\"0 0 24 24\"\n",
              "       width=\"24px\">\n",
              "    <path d=\"M0 0h24v24H0V0z\" fill=\"none\"/>\n",
              "    <path d=\"M18.56 5.44l.94 2.06.94-2.06 2.06-.94-2.06-.94-.94-2.06-.94 2.06-2.06.94zm-11 1L8.5 8.5l.94-2.06 2.06-.94-2.06-.94L8.5 2.5l-.94 2.06-2.06.94zm10 10l.94 2.06.94-2.06 2.06-.94-2.06-.94-.94-2.06-.94 2.06-2.06.94z\"/><path d=\"M17.41 7.96l-1.37-1.37c-.4-.4-.92-.59-1.43-.59-.52 0-1.04.2-1.43.59L10.3 9.45l-7.72 7.72c-.78.78-.78 2.05 0 2.83L4 21.41c.39.39.9.59 1.41.59.51 0 1.02-.2 1.41-.59l7.78-7.78 2.81-2.81c.8-.78.8-2.07 0-2.86zM5.41 20L4 18.59l7.72-7.72 1.47 1.35L5.41 20z\"/>\n",
              "  </svg>\n",
              "      </button>\n",
              "      \n",
              "  <style>\n",
              "    .colab-df-container {\n",
              "      display:flex;\n",
              "      flex-wrap:wrap;\n",
              "      gap: 12px;\n",
              "    }\n",
              "\n",
              "    .colab-df-convert {\n",
              "      background-color: #E8F0FE;\n",
              "      border: none;\n",
              "      border-radius: 50%;\n",
              "      cursor: pointer;\n",
              "      display: none;\n",
              "      fill: #1967D2;\n",
              "      height: 32px;\n",
              "      padding: 0 0 0 0;\n",
              "      width: 32px;\n",
              "    }\n",
              "\n",
              "    .colab-df-convert:hover {\n",
              "      background-color: #E2EBFA;\n",
              "      box-shadow: 0px 1px 2px rgba(60, 64, 67, 0.3), 0px 1px 3px 1px rgba(60, 64, 67, 0.15);\n",
              "      fill: #174EA6;\n",
              "    }\n",
              "\n",
              "    [theme=dark] .colab-df-convert {\n",
              "      background-color: #3B4455;\n",
              "      fill: #D2E3FC;\n",
              "    }\n",
              "\n",
              "    [theme=dark] .colab-df-convert:hover {\n",
              "      background-color: #434B5C;\n",
              "      box-shadow: 0px 1px 3px 1px rgba(0, 0, 0, 0.15);\n",
              "      filter: drop-shadow(0px 1px 2px rgba(0, 0, 0, 0.3));\n",
              "      fill: #FFFFFF;\n",
              "    }\n",
              "  </style>\n",
              "\n",
              "      <script>\n",
              "        const buttonEl =\n",
              "          document.querySelector('#df-5d8faf72-8f3b-4a8b-a979-1f990cda2ac0 button.colab-df-convert');\n",
              "        buttonEl.style.display =\n",
              "          google.colab.kernel.accessAllowed ? 'block' : 'none';\n",
              "\n",
              "        async function convertToInteractive(key) {\n",
              "          const element = document.querySelector('#df-5d8faf72-8f3b-4a8b-a979-1f990cda2ac0');\n",
              "          const dataTable =\n",
              "            await google.colab.kernel.invokeFunction('convertToInteractive',\n",
              "                                                     [key], {});\n",
              "          if (!dataTable) return;\n",
              "\n",
              "          const docLinkHtml = 'Like what you see? Visit the ' +\n",
              "            '<a target=\"_blank\" href=https://colab.research.google.com/notebooks/data_table.ipynb>data table notebook</a>'\n",
              "            + ' to learn more about interactive tables.';\n",
              "          element.innerHTML = '';\n",
              "          dataTable['output_type'] = 'display_data';\n",
              "          await google.colab.output.renderOutput(dataTable, element);\n",
              "          const docLink = document.createElement('div');\n",
              "          docLink.innerHTML = docLinkHtml;\n",
              "          element.appendChild(docLink);\n",
              "        }\n",
              "      </script>\n",
              "    </div>\n",
              "  </div>\n",
              "  "
            ]
          },
          "metadata": {},
          "execution_count": 123
        }
      ],
      "source": [
        "#Run this code\n",
        "outliers = pd.DataFrame(columns=data.columns)\n",
        "\n",
        "for col in stats.index:\n",
        "    iqr = stats.at[col,'IQR']\n",
        "    cutoff = iqr * 1.5\n",
        "    lower = stats.at[col,'25%'] - cutoff\n",
        "    upper = stats.at[col,'75%'] + cutoff\n",
        "    results = data[(data[col] < lower) | \n",
        "                   (data[col] > upper)].copy()\n",
        "    results['Outlier'] = col\n",
        "    outliers = outliers.append(results)\n",
        "    \n",
        "\n",
        "outliers.head()"
      ]
    },
    {
      "cell_type": "markdown",
      "metadata": {
        "id": "5HG3H4niW2oC"
      },
      "source": [
        "Our outliers data frame should now be populated with records that you can investigate further and determine whether they should be kept in the data or dropped. The Outlier column we added before appending the results for the column to the outliers data frame will let you know what column in each record contained the outlier. If you find that this method is returning too many results, you can be more stringent with your cutoff criteria (e.g. increasing the constant by which you multiply the IQR to 3 instead of 1.5)."
      ]
    },
    {
      "cell_type": "markdown",
      "metadata": {
        "id": "HAJXFR6oW2oC"
      },
      "source": [
        "# Data Type Correction\n",
        "\n",
        "One common problem that is often overlooked is incorrect data types. This typically occurs when there is a numeric variable that should actually be represented as a categorical variable. "
      ]
    },
    {
      "cell_type": "markdown",
      "metadata": {
        "id": "IKQNApSoW2oD"
      },
      "source": [
        "## Check the data type of each column"
      ]
    },
    {
      "cell_type": "code",
      "execution_count": 124,
      "metadata": {
        "id": "uWWoGgkmW2oD",
        "colab": {
          "base_uri": "https://localhost:8080/"
        },
        "outputId": "db115b64-4de3-40cc-b011-52253af0fe46"
      },
      "outputs": [
        {
          "output_type": "stream",
          "name": "stdout",
          "text": [
            "<class 'pandas.core.frame.DataFrame'>\n",
            "RangeIndex: 37843 entries, 0 to 37842\n",
            "Data columns (total 36 columns):\n",
            " #   Column           Non-Null Count  Dtype  \n",
            "---  ------           --------------  -----  \n",
            " 0   city08           37843 non-null  int64  \n",
            " 1   city08U          37843 non-null  float64\n",
            " 2   co2              37843 non-null  int64  \n",
            " 3   co2A             37843 non-null  int64  \n",
            " 4   co2TailpipeAGpm  37843 non-null  float64\n",
            " 5   co2TailpipeGpm   37843 non-null  float64\n",
            " 6   comb08           37843 non-null  int64  \n",
            " 7   comb08U          37843 non-null  float64\n",
            " 8   drive            37843 non-null  object \n",
            " 9   engId            37843 non-null  int64  \n",
            " 10  fuelCost08       37843 non-null  int64  \n",
            " 11  fuelCostA08      37843 non-null  int64  \n",
            " 12  fuelType         37843 non-null  object \n",
            " 13  fuelType1        37843 non-null  object \n",
            " 14  highway08        37843 non-null  int64  \n",
            " 15  highway08U       37843 non-null  float64\n",
            " 16  hpv              37843 non-null  int64  \n",
            " 17  id               37843 non-null  int64  \n",
            " 18  lv4              37843 non-null  int64  \n",
            " 19  make             37843 non-null  object \n",
            " 20  model            37843 non-null  object \n",
            " 21  mpgData          37843 non-null  object \n",
            " 22  phevBlended      37843 non-null  bool   \n",
            " 23  pv2              37843 non-null  int64  \n",
            " 24  pv4              37843 non-null  int64  \n",
            " 25  range            37843 non-null  int64  \n",
            " 26  rangeCity        37843 non-null  float64\n",
            " 27  rangeHwy         37843 non-null  float64\n",
            " 28  trany            37843 non-null  object \n",
            " 29  UCity            37843 non-null  float64\n",
            " 30  UHighway         37843 non-null  float64\n",
            " 31  VClass           37843 non-null  object \n",
            " 32  year             37843 non-null  int64  \n",
            " 33  youSaveSpend     37843 non-null  int64  \n",
            " 34  createdOn        37843 non-null  object \n",
            " 35  modifiedOn       37843 non-null  object \n",
            "dtypes: bool(1), float64(9), int64(16), object(10)\n",
            "memory usage: 10.1+ MB\n"
          ]
        }
      ],
      "source": [
        "#your code\n",
        "data.info()"
      ]
    },
    {
      "cell_type": "markdown",
      "metadata": {
        "id": "3tSKvh8GW2oD"
      },
      "source": [
        "## Cleaning years\n",
        "Do you think column year is a continuous variable? Would you change it onto another dtype?"
      ]
    },
    {
      "cell_type": "code",
      "execution_count": null,
      "metadata": {
        "id": "h10T2kpLW2oD"
      },
      "outputs": [],
      "source": [
        "#No lo cambiaría porque no tengo el conocimiento suficiente como para saber que es cada columna."
      ]
    },
    {
      "cell_type": "markdown",
      "metadata": {
        "id": "F5CPZjT1W2oE"
      },
      "source": [
        "You can apply this technique to any column whose data type you would like to change."
      ]
    },
    {
      "cell_type": "code",
      "execution_count": null,
      "metadata": {
        "id": "5s6mX0kaW2oE"
      },
      "outputs": [],
      "source": [
        "#your code\n"
      ]
    },
    {
      "cell_type": "markdown",
      "metadata": {
        "id": "5yoyZT78W2oE"
      },
      "source": [
        "# Cleaning Text and Removing Special Characters\n",
        "\n",
        "The presence of special characters in our fields has the potential to make analyzing our data challenging. Imagine not being able to perform calculations on a numeric field because it was currently represented as an object data type due to the fact that it had a dollar sign ($) in it. \n",
        "\n",
        "Similarly, imagine having a categorical field where you could not group records that belong in the same group together because in one field you are grouping by, terms that refer to the same thing are sometimes hyphenated. In cases like this, it is necessary to remove special characters so that we can properly analyze the data.\n",
        "\n",
        "In our vehicles data set, the trany field has several special characters (parentheses, hyphens, etc.). Check the unique values and clean the column.\n",
        "\n",
        "hint: check the `replace` function"
      ]
    },
    {
      "cell_type": "code",
      "execution_count": null,
      "metadata": {
        "id": "3tt3AhS2W2oF"
      },
      "outputs": [],
      "source": [
        "for i in range(len(data)):\n",
        "  if 'Auto' in data['trany'][i]:\n",
        "    data.replace(data['trany'][i], 'AUTO')\n",
        "  if 'Man' in data['trany'][i]:\n",
        "    data.replace(data['trany'][i], 'MANUAL')\n",
        "  \n",
        "data['trany']"
      ]
    },
    {
      "cell_type": "code",
      "execution_count": null,
      "metadata": {
        "id": "xPbCLuucW2oF"
      },
      "outputs": [],
      "source": [
        "#your code"
      ]
    },
    {
      "cell_type": "code",
      "execution_count": null,
      "metadata": {
        "id": "zIR_yKeDW2oG"
      },
      "outputs": [],
      "source": [
        "data['trany'].unique()"
      ]
    },
    {
      "cell_type": "markdown",
      "metadata": {
        "id": "4DwlYW7qW2oG"
      },
      "source": [
        "As you can see, we now have no special characters, consistent naming, and proper spacing. We started out with 47 unique values in this column, and using this technique, we were able to reduce the number of unique values to 39.\n",
        "\n",
        "\n",
        "\n",
        "# Finding and Removing Duplicates\n",
        "\n",
        "The final topic we are going to cover in this lab is how to identify and remove duplicate rows (or rows that refer to the same entity) in our data. When trying to identify duplicates, we will use the columns (or attributes) of the data to help us determine what entities are similar enough to be considered the same entity. We want to start with all the columns we currently have available to us and work our way toward a lesser number of attributes in an intuitive fashion. In this process, the act of dropping duplicated records is easy, but identifying the correct attributes for comparison and which records to drop is sometimes quite challenging.\n",
        "\n",
        "The first thing we will do is attempt to drop any duplicate records, considering all the columns we currently have in the data set. \n",
        "\n",
        "Pandas provides us with the ability to do that via the `drop_duplicates method`."
      ]
    },
    {
      "cell_type": "markdown",
      "metadata": {
        "id": "Ld0ADFzKW2oG"
      },
      "source": [
        "## Drop duplicate rows that are completely equal"
      ]
    },
    {
      "cell_type": "code",
      "execution_count": 132,
      "metadata": {
        "id": "nICnn8bJW2oH",
        "colab": {
          "base_uri": "https://localhost:8080/"
        },
        "outputId": "6abdec50-82f6-42c0-e029-ae2d0275f32f"
      },
      "outputs": [
        {
          "output_type": "execute_result",
          "data": {
            "text/plain": [
              "((37843, 36), (37843, 36))"
            ]
          },
          "metadata": {},
          "execution_count": 132
        }
      ],
      "source": [
        "\n",
        "data.drop_duplicates().shape, data.shape"
      ]
    },
    {
      "cell_type": "markdown",
      "metadata": {
        "id": "8bM78OUyW2oH"
      },
      "source": [
        "This tells us that there were no records that matched exactly across all columns. However, if we reduce the number of columns in our data that we are interested in, we can try again and have a higher likelihood of finding duplicate records. "
      ]
    },
    {
      "cell_type": "markdown",
      "metadata": {
        "id": "oZ6Y2HmqW2oH"
      },
      "source": [
        "## Select a subset of columns, remove all other columns, and then use the drop_duplicates method to drop any duplicate records based on the remaining columns."
      ]
    },
    {
      "cell_type": "code",
      "execution_count": 135,
      "metadata": {
        "id": "wKC8Fkr2W2oH",
        "colab": {
          "base_uri": "https://localhost:8080/"
        },
        "outputId": "eb388541-596f-4f16-e7e7-63283b6d0095"
      },
      "outputs": [
        {
          "output_type": "stream",
          "name": "stdout",
          "text": [
            "Number of duplicate records dropped:  (37843, 36) (37843, 36)\n"
          ]
        }
      ],
      "source": [
        "#your code\n",
        "\n",
        "print('Number of duplicate records dropped: ', str(data.shape), str(data.drop_duplicates().shape))"
      ]
    },
    {
      "cell_type": "markdown",
      "metadata": {
        "id": "cvBbuW4TW2oI"
      },
      "source": [
        "With the reduced number of columns, we were able to identify and drop 885 duplicate records."
      ]
    },
    {
      "cell_type": "markdown",
      "metadata": {
        "id": "WzofXJrLW2oI"
      },
      "source": [
        "# Export clean dataset\n",
        "Export your bright new clean dataset into a csv file and store it in data folder."
      ]
    },
    {
      "cell_type": "code",
      "execution_count": 136,
      "metadata": {
        "id": "5AB39-0iW2oJ"
      },
      "outputs": [],
      "source": [
        "data.to_csv('Vehicles_messy_clean.csv', index=False)\n"
      ]
    }
  ],
  "metadata": {
    "colab": {
      "provenance": []
    },
    "kernelspec": {
      "display_name": "Python 3 (ipykernel)",
      "language": "python",
      "name": "python3"
    },
    "language_info": {
      "codemirror_mode": {
        "name": "ipython",
        "version": 3
      },
      "file_extension": ".py",
      "mimetype": "text/x-python",
      "name": "python",
      "nbconvert_exporter": "python",
      "pygments_lexer": "ipython3",
      "version": "3.9.7"
    },
    "toc": {
      "base_numbering": 1,
      "nav_menu": {},
      "number_sections": true,
      "sideBar": true,
      "skip_h1_title": false,
      "title_cell": "Table of Contents",
      "title_sidebar": "Contents",
      "toc_cell": true,
      "toc_position": {},
      "toc_section_display": true,
      "toc_window_display": false
    },
    "varInspector": {
      "cols": {
        "lenName": 16,
        "lenType": 16,
        "lenVar": 40
      },
      "kernels_config": {
        "python": {
          "delete_cmd_postfix": "",
          "delete_cmd_prefix": "del ",
          "library": "var_list.py",
          "varRefreshCmd": "print(var_dic_list())"
        },
        "r": {
          "delete_cmd_postfix": ") ",
          "delete_cmd_prefix": "rm(",
          "library": "var_list.r",
          "varRefreshCmd": "cat(var_dic_list()) "
        }
      },
      "types_to_exclude": [
        "module",
        "function",
        "builtin_function_or_method",
        "instance",
        "_Feature"
      ],
      "window_display": false
    }
  },
  "nbformat": 4,
  "nbformat_minor": 0
}